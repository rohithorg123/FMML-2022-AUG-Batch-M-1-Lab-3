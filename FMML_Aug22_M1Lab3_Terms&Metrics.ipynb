{
  "nbformat": 4,
  "nbformat_minor": 0,
  "metadata": {
    "colab": {
      "provenance": [],
      "collapsed_sections": [],
      "include_colab_link": true
    },
    "kernelspec": {
      "name": "python3",
      "display_name": "Python 3"
    },
    "language_info": {
      "name": "python"
    }
  },
  "cells": [
    {
      "cell_type": "markdown",
      "metadata": {
        "id": "view-in-github",
        "colab_type": "text"
      },
      "source": [
        "<a href=\"https://colab.research.google.com/github/rohithorg123/FMML-2022-AUG-Batch-M-1-Lab-3/blob/main/FMML_Aug22_M1Lab3_Terms%26Metrics.ipynb\" target=\"_parent\"><img src=\"https://colab.research.google.com/assets/colab-badge.svg\" alt=\"Open In Colab\"/></a>"
      ]
    },
    {
      "cell_type": "markdown",
      "metadata": {
        "id": "3Eu9VZbF01eq"
      },
      "source": [
        "# Machine learning terms and metrics\n",
        "\n",
        "FMML Module 1, Lab 3<br>\n",
        "Module Coordinator: Amit Pandey amit.pandey@research.iiit.ac.in <br>\n",
        "<br>\n",
        "\n",
        " In this lab, we will show a part of the ML pipeline by extracting features, training and testing. We will also explore how data augmentation affects accuracy."
      ]
    },
    {
      "cell_type": "code",
      "metadata": {
        "id": "8qBvyEem0vLi"
      },
      "source": [
        "import matplotlib.pyplot as plt\n",
        "import numpy as np\n",
        "from sklearn import datasets\n",
        "# set randomseed\n",
        "rng = np.random.default_rng(seed=42)"
      ],
      "execution_count": null,
      "outputs": []
    },
    {
      "cell_type": "markdown",
      "metadata": {
        "id": "u3t59g5s1HfC"
      },
      "source": [
        "In this lab, we will use the California Housing dataset. There are 20640 samples, each with 8 attributes like income of the block, age of the houses per district etc. The task is to predict the cost of the houses per district. \n",
        "\n",
        "Let us download and examine the dataset. "
      ]
    },
    {
      "cell_type": "code",
      "metadata": {
        "id": "8LpqjN991GGJ",
        "colab": {
          "base_uri": "https://localhost:8080/"
        },
        "outputId": "7da38c05-d1e6-42d9-80a4-96fc92bf385f"
      },
      "source": [
        " dataset =  datasets.fetch_california_housing()\n",
        " # print(dataset.DESCR)  # uncomment this if you want to know more about this dataset\n",
        " # print(dataset.keys())  # if you want to know what else is there in this dataset\n",
        " dataset.target = dataset.target.astype(np.int) # so that we can classify\n",
        " print(dataset.data.shape)\n",
        " print(dataset.target.shape)"
      ],
      "execution_count": null,
      "outputs": [
        {
          "output_type": "stream",
          "name": "stdout",
          "text": [
            "(20640, 8)\n",
            "(20640,)\n"
          ]
        },
        {
          "output_type": "stream",
          "name": "stderr",
          "text": [
            "/usr/local/lib/python3.7/dist-packages/ipykernel_launcher.py:4: DeprecationWarning: `np.int` is a deprecated alias for the builtin `int`. To silence this warning, use `int` by itself. Doing this will not modify any behavior and is safe. When replacing `np.int`, you may wish to use e.g. `np.int64` or `np.int32` to specify the precision. If you wish to review your current use, check the release note link for additional information.\n",
            "Deprecated in NumPy 1.20; for more details and guidance: https://numpy.org/devdocs/release/1.20.0-notes.html#deprecations\n",
            "  after removing the cwd from sys.path.\n"
          ]
        }
      ]
    },
    {
      "cell_type": "markdown",
      "metadata": {
        "id": "iNx4174W5xRg"
      },
      "source": [
        "Here is a function for calculating the 1-nearest neighbours"
      ]
    },
    {
      "cell_type": "code",
      "source": [
        "type(dataset), dataset.DESCR"
      ],
      "metadata": {
        "colab": {
          "base_uri": "https://localhost:8080/"
        },
        "id": "ut5lj4HsaTfp",
        "outputId": "cc41c703-842c-4780-e16f-972b9e0f17fa"
      },
      "execution_count": null,
      "outputs": [
        {
          "output_type": "execute_result",
          "data": {
            "text/plain": [
              "(sklearn.utils.Bunch,\n",
              " '.. _california_housing_dataset:\\n\\nCalifornia Housing dataset\\n--------------------------\\n\\n**Data Set Characteristics:**\\n\\n    :Number of Instances: 20640\\n\\n    :Number of Attributes: 8 numeric, predictive attributes and the target\\n\\n    :Attribute Information:\\n        - MedInc        median income in block group\\n        - HouseAge      median house age in block group\\n        - AveRooms      average number of rooms per household\\n        - AveBedrms     average number of bedrooms per household\\n        - Population    block group population\\n        - AveOccup      average number of household members\\n        - Latitude      block group latitude\\n        - Longitude     block group longitude\\n\\n    :Missing Attribute Values: None\\n\\nThis dataset was obtained from the StatLib repository.\\nhttps://www.dcc.fc.up.pt/~ltorgo/Regression/cal_housing.html\\n\\nThe target variable is the median house value for California districts,\\nexpressed in hundreds of thousands of dollars ($100,000).\\n\\nThis dataset was derived from the 1990 U.S. census, using one row per census\\nblock group. A block group is the smallest geographical unit for which the U.S.\\nCensus Bureau publishes sample data (a block group typically has a population\\nof 600 to 3,000 people).\\n\\nAn household is a group of people residing within a home. Since the average\\nnumber of rooms and bedrooms in this dataset are provided per household, these\\ncolumns may take surpinsingly large values for block groups with few households\\nand many empty houses, such as vacation resorts.\\n\\nIt can be downloaded/loaded using the\\n:func:`sklearn.datasets.fetch_california_housing` function.\\n\\n.. topic:: References\\n\\n    - Pace, R. Kelley and Ronald Barry, Sparse Spatial Autoregressions,\\n      Statistics and Probability Letters, 33 (1997) 291-297\\n')"
            ]
          },
          "metadata": {},
          "execution_count": 8
        }
      ]
    },
    {
      "cell_type": "code",
      "metadata": {
        "id": "07zpydQj1hIQ"
      },
      "source": [
        "def NN1(traindata, trainlabel, query):\n",
        "  diff  = traindata - query  # find the difference between features. Numpy automatically takes care of the size here \n",
        "  sq = diff*diff # square the differences\n",
        "  dist = sq.sum(1) # add up the squares\n",
        "  label = trainlabel[np.argmin(dist)] # our predicted label is the label of the training data which has the least distance from the query\n",
        "  return label\n",
        "\n",
        "def NN(traindata, trainlabel, testdata):\n",
        "  # we will run nearest neighbour for each sample in the test data \n",
        "  # and collect the predicted classes in an array using list comprehension\n",
        "  predlabel = np.array([NN1(traindata, trainlabel, i) for i in testdata])\n",
        "  return predlabel\n",
        "\n",
        "\n",
        "\n",
        "5,5\n",
        "6,6\n",
        "8,9\n",
        "\n",
        "\n",
        "0,0"
      ],
      "execution_count": null,
      "outputs": []
    },
    {
      "cell_type": "markdown",
      "metadata": {
        "id": "03JktkfIGaje"
      },
      "source": [
        "We will also define a 'random classifier', which randomly allots labels to each sample"
      ]
    },
    {
      "cell_type": "code",
      "metadata": {
        "id": "fogWAtjyGhAH"
      },
      "source": [
        "def RandomClassifier(traindata, trainlabel, testdata):\n",
        "  # in reality, we don't need these arguments\n",
        "\n",
        "  classes = np.unique(trainlabel)\n",
        "  rints = rng.integers(low=0, high=len(classes), size=len(testdata))\n",
        "  predlabel = classes[rints]\n",
        "  return predlabel"
      ],
      "execution_count": null,
      "outputs": []
    },
    {
      "cell_type": "markdown",
      "metadata": {
        "id": "1Hjf1KHs7fU5"
      },
      "source": [
        "Let us define a metric 'Accuracy' to see how good our learning algorithm is. Accuracy is the ratio of the number of correctly classified samples to the total number of samples. The higher the accuracy, the better the algorithm. "
      ]
    },
    {
      "cell_type": "code",
      "metadata": {
        "id": "ouuCqWU07bz-"
      },
      "source": [
        "def Accuracy(gtlabel, predlabel):\n",
        "  assert len(gtlabel)==len(predlabel), \"Length of the groundtruth labels and predicted labels should be the same\"\n",
        "  correct = (gtlabel==predlabel).sum() # count the number of times the groundtruth label is equal to the predicted label.\n",
        "  return correct/len(gtlabel)"
      ],
      "execution_count": null,
      "outputs": []
    },
    {
      "cell_type": "markdown",
      "metadata": {
        "id": "4vJFwBFa9Klw"
      },
      "source": [
        "Let us make a function to split the dataset with the desired probability."
      ]
    },
    {
      "cell_type": "code",
      "metadata": {
        "id": "Ko0VzpSM2Tdi"
      },
      "source": [
        "def split(data, label, percent):\n",
        "  # generate a random number for each sample\n",
        "  rnd = rng.random(len(label))\n",
        "  split1 = rnd<percent\n",
        "  split2 = rnd>=percent\n",
        "  split1data = data[split1,:]\n",
        "  split1label = label[split1]\n",
        "  split2data = data[split2,:]\n",
        "  split2label = label[split2]\n",
        "  return split1data, split1label, split2data, split2label"
      ],
      "execution_count": null,
      "outputs": []
    },
    {
      "cell_type": "markdown",
      "metadata": {
        "id": "AcK3LEAJ_LGC"
      },
      "source": [
        "We will reserve 20% of our dataset as the test set. We will not change this portion throughout our experiments"
      ]
    },
    {
      "cell_type": "code",
      "metadata": {
        "id": "bBZkHBLJ1iU-",
        "colab": {
          "base_uri": "https://localhost:8080/"
        },
        "outputId": "ce33cf35-6f26-4561-d8d3-2361a784f341"
      },
      "source": [
        "testdata, testlabel, alltraindata, alltrainlabel = split(dataset.data, dataset.target, 20/100)\n",
        "print('Number of test samples = ', len(testlabel))\n",
        "print('Number of other samples = ', len(alltrainlabel))\n",
        "print('Percent of test data = ', len(testlabel)*100/len(dataset.target),'%')"
      ],
      "execution_count": null,
      "outputs": [
        {
          "output_type": "stream",
          "name": "stdout",
          "text": [
            "Number of test samples =  4144\n",
            "Number of other samples =  16496\n",
            "Percent of test data =  20.07751937984496 %\n"
          ]
        }
      ]
    },
    {
      "cell_type": "markdown",
      "metadata": {
        "id": "a6Ss0Z6IAGNV"
      },
      "source": [
        "## Experiments with splits\n",
        "\n",
        "Let us reserve some of our train data as a validation set"
      ]
    },
    {
      "cell_type": "code",
      "metadata": {
        "id": "WFew2iry_7W7"
      },
      "source": [
        "traindata, trainlabel, valdata, vallabel = split(alltraindata, alltrainlabel, 75/100)"
      ],
      "execution_count": null,
      "outputs": []
    },
    {
      "cell_type": "markdown",
      "metadata": {
        "id": "60hiu4clFN1i"
      },
      "source": [
        "What is the accuracy of our classifiers on the train dataset?"
      ]
    },
    {
      "cell_type": "code",
      "metadata": {
        "id": "DBlZDTHUFTZx",
        "colab": {
          "base_uri": "https://localhost:8080/"
        },
        "outputId": "5431825e-4ac1-499f-e216-6d5e749d11ad"
      },
      "source": [
        "trainpred = NN(traindata, trainlabel, traindata)\n",
        "trainAccuracy = Accuracy(trainlabel, trainpred)\n",
        "print(\"Train accuracy using nearest neighbour is \", trainAccuracy)\n",
        "\n",
        "trainpred = RandomClassifier(traindata, trainlabel, traindata)\n",
        "trainAccuracy = Accuracy(trainlabel, trainpred)\n",
        "print(\"Train accuracy using random classifier is \", trainAccuracy)"
      ],
      "execution_count": null,
      "outputs": [
        {
          "output_type": "stream",
          "name": "stdout",
          "text": [
            "Train accuracy using nearest neighbour is  1.0\n",
            "Train accuracy using random classifier is  0.17269108926975876\n"
          ]
        }
      ]
    },
    {
      "cell_type": "code",
      "source": [
        "'5,5 - A'\n",
        "'6,6 -B'\n",
        "'7,7 -C'\n",
        "\n",
        "\n",
        "\n",
        "'8,8 - A | C'\n",
        "'0,0 -B | A   - 0'\n",
        "\n",
        "\n",
        "'10,10     -A'\n",
        "'15,15     -C'"
      ],
      "metadata": {
        "id": "jnMblJyaXKZZ",
        "outputId": "594f31f2-2369-4e60-c916-20c236a86e05",
        "colab": {
          "base_uri": "https://localhost:8080/",
          "height": 35
        }
      },
      "execution_count": null,
      "outputs": [
        {
          "output_type": "execute_result",
          "data": {
            "text/plain": [
              "'15,15     -C'"
            ],
            "application/vnd.google.colaboratory.intrinsic+json": {
              "type": "string"
            }
          },
          "metadata": {},
          "execution_count": 24
        }
      ]
    },
    {
      "cell_type": "markdown",
      "source": [
        "## Interesting: See how train accuracy of nearest neighbour is 1 i.e. 100%. Ponder and Explain."
      ],
      "metadata": {
        "id": "tW_I-YuhbQqA"
      }
    },
    {
      "cell_type": "markdown",
      "metadata": {
        "id": "7h08-9gJDtSy"
      },
      "source": [
        "For nearest neighbour, the train accuracy is always 1. The accuracy of the random classifier is close to 1/(number of classes) which is 0.1666 in our case.\n",
        "\n",
        "Let us predict the labels for our validation set and get the accuracy"
      ]
    },
    {
      "cell_type": "code",
      "metadata": {
        "id": "4h7bXoW_2H3v",
        "colab": {
          "base_uri": "https://localhost:8080/"
        },
        "outputId": "f5c38aca-ce5c-4b56-b4aa-db9f8501a0f0"
      },
      "source": [
        "valpred = NN(traindata, trainlabel, valdata)\n",
        "valAccuracy = Accuracy(vallabel, valpred)\n",
        "print(\"Validation accuracy using nearest neighbour is \", valAccuracy)\n",
        "\n",
        "valpred = RandomClassifier(traindata, trainlabel, valdata)\n",
        "valAccuracy = Accuracy(vallabel, valpred)\n",
        "print(\"Validation accuracy using random classifier is \", valAccuracy)"
      ],
      "execution_count": null,
      "outputs": [
        {
          "output_type": "stream",
          "name": "stdout",
          "text": [
            "Validation accuracy using nearest neighbour is  0.33930704898446834\n",
            "Validation accuracy using random classifier is  0.16917562724014337\n"
          ]
        }
      ]
    },
    {
      "cell_type": "markdown",
      "metadata": {
        "id": "py9bLguFEjfg"
      },
      "source": [
        "Validation accuracy of nearest neighbour is considerably less than its train accuracy while the validation accuracy of random classifier is the same. However, the validation accuracy of nearest neighbour is twice that of the random classifier. \n",
        "\n",
        "Now let us try another random split and check the validation accuracy"
      ]
    },
    {
      "cell_type": "code",
      "metadata": {
        "id": "ujm3cyYzEntE",
        "colab": {
          "base_uri": "https://localhost:8080/"
        },
        "outputId": "32f56c6e-b441-4cc5-f381-3b3e62c0968d"
      },
      "source": [
        "traindata, trainlabel, valdata, vallabel = split(alltraindata, alltrainlabel, 75/100)\n",
        "valpred = NN(traindata, trainlabel, valdata)\n",
        "valAccuracy = Accuracy(vallabel, valpred)\n",
        "print(\"Validation accuracy of nearest neighbour is \", valAccuracy)"
      ],
      "execution_count": null,
      "outputs": [
        {
          "output_type": "stream",
          "name": "stdout",
          "text": [
            "Validation accuracy of nearest neighbour is  0.3309126119583636\n"
          ]
        }
      ]
    },
    {
      "cell_type": "markdown",
      "metadata": {
        "id": "oSOx7U83EKie"
      },
      "source": [
        "You can run the above cell multiple times to try with different random splits. \n",
        "We notice that the accuracy is different for each run, but close together. \n",
        "\n",
        "Now let us compare it with the accuracy we get on the test dataset. "
      ]
    },
    {
      "cell_type": "code",
      "metadata": {
        "id": "PNEZ5ToYBEDW",
        "colab": {
          "base_uri": "https://localhost:8080/"
        },
        "outputId": "ec91ce55-8bd0-4152-df24-cd15d1a2f687"
      },
      "source": [
        "testpred = NN(alltraindata, alltrainlabel, testdata)\n",
        "testAccuracy = Accuracy(testlabel, testpred)\n",
        "print('Test accuracy is ', testAccuracy)"
      ],
      "execution_count": null,
      "outputs": [
        {
          "output_type": "stream",
          "name": "stdout",
          "text": [
            "Test accuracy is  0.34917953667953666\n"
          ]
        }
      ]
    },
    {
      "cell_type": "markdown",
      "metadata": {
        "id": "w3dGD531K3gH"
      },
      "source": [
        "### Try it out for yourself and answer:\n",
        "1. How is the accuracy of the validation set affected if we increase the percentage of validation set? What happens when we reduce it?\n",
        "2. How does the size of the train and validation set affect how well we can predict the accuracy on the test set using the validation set?\n",
        "3. What do you think is a good percentage to reserve for the validation set so that thest two factors are balanced? \n",
        "\n",
        "Answer for both nearest neighbour and random classifier. You can note down the values for your experiments and plot a graph using  <a href=https://matplotlib.org/stable/gallery/lines_bars_and_markers/step_demo.html#sphx-glr-gallery-lines-bars-and-markers-step-demo-py>plt.plot<href>. Check also for extreme values for splits, like 99.9% or 0.1%"
      ]
    },
    {
      "cell_type": "markdown",
      "metadata": {
        "id": "PnYvkAZLQY7h"
      },
      "source": [
        "## Multiple Splits\n",
        "\n",
        "One way to get more accurate estimates for the test accuracy is by using <b>crossvalidation</b>. Here, we will try a simple version, where we do multiple train/val splits and take the average of validation accuracies as the test accuracy estimation. Here is a function for doing this. Note that this function will take a long time to execute. "
      ]
    },
    {
      "cell_type": "code",
      "source": [
        "'100 --- 80 --- 75|5.   12345, 1234|5. 2345|1, 1345|2'"
      ],
      "metadata": {
        "id": "k-HGXSovYQ1v",
        "outputId": "7378e433-6834-43d4-ead1-c137b55e2497",
        "colab": {
          "base_uri": "https://localhost:8080/",
          "height": 35
        }
      },
      "execution_count": null,
      "outputs": [
        {
          "output_type": "execute_result",
          "data": {
            "text/plain": [
              "'100 --- 80 --- 75|5.   12345, 1234|5. 2345|1, 1345|2'"
            ],
            "application/vnd.google.colaboratory.intrinsic+json": {
              "type": "string"
            }
          },
          "metadata": {},
          "execution_count": 36
        }
      ]
    },
    {
      "cell_type": "code",
      "metadata": {
        "id": "E4nGCUQXBTzo"
      },
      "source": [
        "# you can use this function for random classifier also\n",
        "def AverageAccuracy(alldata, alllabel, splitpercent, iterations, classifier=NN):\n",
        "  accuracy = 0\n",
        "  for ii in range(iterations):\n",
        "    traindata, trainlabel, valdata, vallabel = split(alldata, alllabel, splitpercent)\n",
        "    valpred = classifier(traindata, trainlabel, valdata)\n",
        "    accuracy += Accuracy(vallabel, valpred)\n",
        "  return accuracy/iterations # average of all accuracies"
      ],
      "execution_count": null,
      "outputs": []
    },
    {
      "cell_type": "code",
      "metadata": {
        "id": "H3qtNar7Bbik",
        "colab": {
          "base_uri": "https://localhost:8080/"
        },
        "outputId": "9633d963-430e-4ab3-f15e-ec9509446927"
      },
      "source": [
        "print('Average validation accuracy is ', AverageAccuracy(alltraindata, alltrainlabel, 75/100, 10, classifier=NN))\n",
        "testpred = NN(alltraindata, alltrainlabel, testdata)\n",
        "print('test accuracy is ',Accuracy(testlabel, testpred) )"
      ],
      "execution_count": null,
      "outputs": [
        {
          "output_type": "stream",
          "name": "stdout",
          "text": [
            "Average validation accuracy is  0.34390158143724614\n",
            "test accuracy is  0.34917953667953666\n"
          ]
        }
      ]
    },
    {
      "cell_type": "markdown",
      "metadata": {
        "id": "33GIn4x5VH-d"
      },
      "source": [
        "This is a very simple way of doing cross-validation. There are many well-known algorithms for cross-validation, like k-fold cross-validation, leave-one-out etc. This will be covered in detail in a later module. For more information about cross-validation, check <a href=https://en.wikipedia.org/wiki/Cross-validation_(statistics)>Cross-validatioin (Wikipedia)</a>\n",
        "\n",
        "### Questions\n",
        "1. Does averaging the validation accuracy across multiple splits give more consistent results?\n",
        "2. Does it give more accurate estimate of test accuracy?\n",
        "3. What is the effect of the number of iterations on the estimate? Do we get a better estimate with higher iterations?\n",
        "4. Consider the results you got for the previous questions. Can we deal with a very small train dataset or validation dataset by increasing the iterations?\n"
      ]
    },
    {
      "cell_type": "markdown",
      "source": [
        "## Now let us see how augmentation affects accuracy. We will pick components from what we studied in the last module"
      ],
      "metadata": {
        "id": "UUft9G1acwlB"
      }
    },
    {
      "cell_type": "markdown",
      "source": [
        "we will experiment with MNIST dataset\n"
      ],
      "metadata": {
        "id": "XtU3AfVDkkYM"
      }
    },
    {
      "cell_type": "code",
      "source": [
        "import numpy as np\n",
        "import matplotlib.pyplot as plt\n",
        "from keras.datasets import mnist\n",
        "# set randomseed\n",
        "rng = np.random.default_rng(seed=42)\n",
        "from sklearn.utils.extmath import cartesian\n",
        "from skimage.transform import rotate, AffineTransform, warp\n",
        "import math\n",
        "\n",
        "#loading the dataset\n",
        "(train_X, train_y), (test_X, test_y) = mnist.load_data()\n",
        "\n",
        "print(train_X[0].shape,train_y[0])"
      ],
      "metadata": {
        "colab": {
          "base_uri": "https://localhost:8080/"
        },
        "id": "47HIwFsMkebm",
        "outputId": "f8ebd706-326b-4926-8780-c7e638d55aa5"
      },
      "execution_count": null,
      "outputs": [
        {
          "output_type": "stream",
          "name": "stdout",
          "text": [
            "(28, 28) 5\n"
          ]
        }
      ]
    },
    {
      "cell_type": "code",
      "source": [
        "train_X = train_X/255\n",
        "test_X = test_X/255\n",
        "\n",
        "#train_X[0].shape, train_X[0]"
      ],
      "metadata": {
        "id": "WW6ZGBcTkyXB"
      },
      "execution_count": null,
      "outputs": []
    },
    {
      "cell_type": "code",
      "source": [
        "train_X = train_X[::1200,:,:].copy() # subsample. Otherwise it will take too long!\n",
        "train_y = train_y[::1200].copy() # do the same to the labels"
      ],
      "metadata": {
        "id": "64ATS9mtk_mA"
      },
      "execution_count": null,
      "outputs": []
    },
    {
      "cell_type": "code",
      "metadata": {
        "id": "1WileBUqC404"
      },
      "source": [
        "## Augmentation functions:\n",
        "\n",
        "\n",
        "\n",
        "def augRotate(sample, angleconstraint):\n",
        "  if angleconstraint==0:\n",
        "    return sample\n",
        "\n",
        "  print(\"shape of sample before is:\", sample.shape)\n",
        "  print(\"len(sample.shape)\", len(sample.shape))\n",
        "  if len(sample.shape)==2:\n",
        "    sample = np.expand_dims(sample, 0)  # make sure the sample is 3 dimensional\n",
        "    print(\"shape of sample is:\", sample.shape)\n",
        "  angle = rng.random(len(sample)) # generate random numbers for angles\n",
        "  print(\"angle is:\", angle)\n",
        "  angle = (angle-0.5)*angleconstraint # make the random angle constrained\n",
        "  print(\"angle with constraint is:\", angle)\n",
        "  nsample = sample.copy() # preallocate the augmented array to make it faster\n",
        "  for ii in range(len(sample)):\n",
        "    nsample[ii] = rotate(sample[ii], angle[ii])\n",
        "  return np.squeeze(nsample) # take care if the input had only one sample.\n",
        "\n",
        "\n",
        "def NN1(traindata, trainlabel, query):\n",
        "  diff  = traindata - query  # find the difference between features. Numpy automatically takes care of the size here \n",
        "  sq = diff*diff # square the differences\n",
        "  dist = sq.sum(1) # add up the squares\n",
        "  label = trainlabel[np.argmin(dist)] # our predicted label is the label of the training data which has the least distance from the query\n",
        "  return label\n",
        "\n",
        "def NN(traindata, trainlabel, testdata):\n",
        "  # we will run nearest neighbour for each sample in the test data \n",
        "  # and collect the predicted classes in an array using list comprehension\n",
        "  traindata = traindata.reshape(-1, 28*28)\n",
        "  testdata = testdata.reshape(-1,28*28)\n",
        "  predlabel = np.array([NN1(traindata, trainlabel, i) for i in testdata])\n",
        "  return predlabel\n",
        "\n",
        "def Accuracy(gtlabel, predlabel):\n",
        "  assert len(gtlabel)==len(predlabel), \"Length of the groundtruth labels and predicted labels should be the same\"\n",
        "  correct = (gtlabel==predlabel).sum() # count the number of times the groundtruth label is equal to the predicted label.\n",
        "  return correct/len(gtlabel)"
      ],
      "execution_count": null,
      "outputs": []
    },
    {
      "cell_type": "code",
      "source": [
        "def shear(sample, amount):\n",
        "  tform = AffineTransform(shear = amount) # create the shear transform\n",
        "  img = warp(sample, tform) # apply the shear\n",
        "  # this makes the digit off-center. Since all the images in the test set are centralized, we will do the same here\n",
        "  col = img.sum(0).nonzero()[0]\n",
        "  row = img.sum(1).nonzero()[0]\n",
        "  if len(col)>0 and len(row)>0:\n",
        "    xshift = int(sample.shape[0]/2 - (row[0]+row[-1])/2)\n",
        "    yshift = int(sample.shape[1]/2 - (col[0]+col[-1])/2)\n",
        "    img = np.roll(img, (xshift, yshift),(0,1))\n",
        "  return img\n",
        "\n",
        "def augShear(sample, shearconstraint):\n",
        "  if shearconstraint==0:\n",
        "    return sample\n",
        "  if len(sample.shape)==2:\n",
        "    sample = np.expand_dims(sample, 0)  # make sure the sample is 3 dimensional\n",
        "  amt = rng.random(len(sample)) # generate random numbers for shear\n",
        "  amt = (amt-0.5)*shearconstraint # make the random shear constrained\n",
        "  nsample = sample.copy() # preallocate the augmented array to make it faster\n",
        "  for ii in range(len(sample)):\n",
        "    nsample[ii] = shear(sample[ii], amt[ii])\n",
        "  return np.squeeze(nsample) # take care if the input had only one sample."
      ],
      "metadata": {
        "id": "BIsZ_Q5LqWEs"
      },
      "execution_count": null,
      "outputs": []
    },
    {
      "cell_type": "markdown",
      "source": [
        "In this lab, we will use the image pixels themselves as features, instead of extracting features. Each image has 28*28 pixels, so we will flatten them to 784 pixels to use as features. Note that this is very compute intensive and will take a long time.\n",
        "\n",
        "Let us check the baseline accuracy on the test set without any augmentations. We hope that adding augmentations will help us to get better results."
      ],
      "metadata": {
        "id": "vAFpOzQFj-2r"
      }
    },
    {
      "cell_type": "code",
      "source": [
        "testpred = NN(train_X, train_y, test_X)\n",
        "print('Baseline accuracy without augmentation is ', Accuracy(test_y, testpred))"
      ],
      "metadata": {
        "colab": {
          "base_uri": "https://localhost:8080/"
        },
        "id": "dPNdNyFVj4pX",
        "outputId": "fd89b79f-15d0-4ef2-fa7f-11e3607809fc"
      },
      "execution_count": null,
      "outputs": [
        {
          "output_type": "stream",
          "name": "stdout",
          "text": [
            "Baseline accuracy without augmentation is  0.6472\n"
          ]
        }
      ]
    },
    {
      "cell_type": "markdown",
      "source": [
        "Let us try to improve this accuracy using augmentations. When we create augmentations, we have to make sure that the changes reflect what will naturally occur in the dataset. For example, we should not add colour to our samples as an augmentation because they do not naturally occur. We should not also flip the images in MNIST, because flipped images have different meanings for digits."
      ],
      "metadata": {
        "id": "MckdgpPflSYh"
      }
    },
    {
      "cell_type": "markdown",
      "source": [
        "Let us augment the whole dataset and see if this improves the test accuracy"
      ],
      "metadata": {
        "id": "7aWfHHggmqu7"
      }
    },
    {
      "cell_type": "code",
      "source": [
        "# hyperparameters\n",
        "angleconstraint = 60\n",
        "naugmentations = 5\n",
        "\n",
        "# augment\n",
        "augdata = train_X # we include the original images also in the augmented dataset\n",
        "auglabel = train_y\n",
        "for ii in range(naugmentations):\n",
        "  augdata = np.concatenate((augdata, augRotate(train_X, angleconstraint))) # concatenate the augmented data to the set\n",
        "  auglabel = np.concatenate((auglabel, train_y))  # the labels don't change when we augment\n",
        "\n",
        "# check the test accuracy\n",
        "testpred = NN(augdata, auglabel, test_X)\n",
        "print('Accuracy after rotation augmentation is ', Accuracy(test_y, testpred))"
      ],
      "metadata": {
        "colab": {
          "base_uri": "https://localhost:8080/"
        },
        "id": "Kdn0TZ_tlMg3",
        "outputId": "f5b3fdad-2fae-4476-f2c7-d7d3387eb177"
      },
      "execution_count": null,
      "outputs": [
        {
          "output_type": "stream",
          "name": "stdout",
          "text": [
            "shape of sample before is: (50, 28, 28)\n",
            "len(sample.shape) 3\n",
            "angle is: [0.39322666 0.75133734 0.90887406 0.70305557 0.93592871 0.58865265\n",
            " 0.57713744 0.30462739 0.70962749 0.88195252 0.64631623 0.23303922\n",
            " 0.54410911 0.75593742 0.93936331 0.15659605 0.12749709 0.41294353\n",
            " 0.12561117 0.98042891 0.42430437 0.53361052 0.22708778 0.44912612\n",
            " 0.98469393 0.48868715 0.00882393 0.24252753 0.97845483 0.98906751\n",
            " 0.21049309 0.61526409 0.07690833 0.57744164 0.1259207  0.81866152\n",
            " 0.93957499 0.17298681 0.46271217 0.102043   0.33914001 0.06509775\n",
            " 0.26454653 0.99022367 0.04460327 0.85896833 0.07745258 0.52899693\n",
            " 0.45211979 0.93155466]\n",
            "angle with constraint is: [ -6.40640042  15.08024038  24.53244339  12.18333402  26.15572268\n",
            "   5.31915912   4.62824643 -11.72235671  12.57764947  22.91715131\n",
            "   8.77897357 -16.01764676   2.64654688  15.35624502  26.36179889\n",
            " -20.60423703 -22.35017454  -5.22338819 -22.46332983  28.82573475\n",
            "  -4.54173796   2.01663114 -16.37473312  -3.05243259  29.08163609\n",
            "  -0.67877092 -29.47056445 -15.44834818  28.70728983  29.3440508\n",
            " -17.37041461   6.91584527 -25.38550017   4.64649855 -22.44475791\n",
            "  19.11969142  26.37449926 -19.62079152  -2.23726988 -23.87742009\n",
            "  -9.65159958 -26.09413471 -14.12720832  29.41342003 -27.32380396\n",
            "  21.53809978 -25.35284533   1.73981587  -2.87281245  25.8932796 ]\n",
            "shape of sample before is: (50, 28, 28)\n",
            "len(sample.shape) 3\n",
            "angle is: [0.19904986 0.17968202 0.74871409 0.72571947 0.69918177 0.02612712\n",
            " 0.25995969 0.83989518 0.60085812 0.60219492 0.29591661 0.26017309\n",
            " 0.94655489 0.72775528 0.12686612 0.93770694 0.58237015 0.33336237\n",
            " 0.39713945 0.72540451 0.37627265 0.5787448  0.7104995  0.195375\n",
            " 0.94424149 0.35617277 0.41937476 0.69851437 0.60878509 0.44011984\n",
            " 0.64974204 0.90282831 0.80028362 0.82425901 0.25840841 0.41940335\n",
            " 0.55381914 0.04419082 0.76979218 0.32346342 0.28259608 0.25929201\n",
            " 0.28337927 0.33801483 0.60482456 0.58356532 0.25571175 0.20642428\n",
            " 0.82635819 0.09272334]\n",
            "angle with constraint is: [-18.05700826 -19.21907908  14.92284531  13.54316839  11.95090623\n",
            " -28.43237303 -14.4024188   20.39371067   6.05148729   6.13169524\n",
            " -12.24500368 -14.38961469  26.79329328  13.66531673 -22.38803293\n",
            "  26.26241653   4.94220911  -9.99825798  -6.17163322  13.52427062\n",
            "  -7.4236409    4.72468795  12.6299698  -18.27750016  26.65448917\n",
            "  -8.62963371  -4.83751458  11.91086207   6.52710536  -3.59280978\n",
            "   8.98452242  24.16969845  18.017017    19.4555406  -14.49549549\n",
            "  -4.83579904   3.2291485  -27.34855085  16.18753082 -10.59219454\n",
            " -13.04423532 -14.44247944 -12.99724407  -9.71911007   6.28947348\n",
            "   5.01391931 -14.65729478 -17.61454341  19.5814914  -24.43659974]\n",
            "shape of sample before is: (50, 28, 28)\n",
            "len(sample.shape) 3\n",
            "angle is: [0.51282284 0.52056087 0.57413681 0.88565012 0.62391394 0.97363377\n",
            " 0.87135308 0.21474026 0.24118331 0.34477414 0.39151442 0.55299512\n",
            " 0.23251263 0.22234518 0.38138996 0.67202311 0.68812561 0.97611674\n",
            " 0.20241543 0.39285915 0.9646775  0.69000874 0.59227852 0.53964605\n",
            " 0.07551038 0.89337381 0.62550522 0.57166741 0.53950034 0.39191421\n",
            " 0.25466469 0.75532199 0.50956752 0.03393953 0.3990945  0.92860364\n",
            " 0.37389456 0.41323301 0.62396112 0.8016748  0.66846112 0.85005473\n",
            " 0.11397059 0.92459255 0.90392193 0.51914859 0.62474224 0.21281305\n",
            " 0.44794744 0.20270336]\n",
            "angle with constraint is: [  0.76937047   1.23365245   4.44820841  23.13900695   7.43483641\n",
            "  28.41802597  22.281185   -17.11558443 -15.52900139  -9.31355185\n",
            "  -6.5091351    3.17970722 -16.04924203 -16.65928913  -7.11660256\n",
            "  10.32138679  11.28753679  28.5670044  -17.85507396  -6.42845089\n",
            "  27.88064988  11.40052456   5.53671149   2.37876308 -25.46937719\n",
            "  23.60242853   7.53031292   4.30004448   2.3700206   -6.48514756\n",
            " -14.72011852  15.31931912   0.57405107 -27.96362806  -6.05433001\n",
            "  25.71621829  -7.56632631  -5.20601952   7.43766738  18.10048823\n",
            "  10.10766706  21.00328387 -23.16176478  25.4755532   24.23531594\n",
            "   1.1489152    7.48453427 -17.23121699  -3.12315372 -17.83779834]\n",
            "shape of sample before is: (50, 28, 28)\n",
            "len(sample.shape) 3\n",
            "angle is: [0.02197668 0.98090307 0.25914652 0.59310831 0.30025038 0.37062162\n",
            " 0.39776156 0.33504673 0.63739976 0.96093627 0.42863465 0.97332672\n",
            " 0.66779724 0.6071362  0.23710385 0.06292071 0.85193477 0.57398106\n",
            " 0.41441386 0.81196732 0.31058038 0.78361726 0.32796384 0.92088119\n",
            " 0.26796687 0.13755412 0.69809671 0.16284725 0.94936305 0.65555511\n",
            " 0.23086066 0.20881893 0.92387504 0.60785791 0.89373601 0.1102252\n",
            " 0.9253922  0.52004931 0.66842192 0.37287547 0.05914032 0.95797244\n",
            " 0.99459833 0.36454685 0.94386793 0.16772629 0.15468445 0.07311184\n",
            " 0.39126941 0.05230225]\n",
            "angle with constraint is: [-28.68139926  28.85418409 -14.45120906   5.58649853 -11.98497699\n",
            "  -7.76270279  -6.13430649  -9.89719612   8.24398556  27.65617623\n",
            "  -4.281921    28.39960344  10.06783424   6.4281717  -15.77376889\n",
            " -26.22475765  21.11608622   4.43886384  -5.13516825  18.71803933\n",
            " -11.36517705  17.01703536 -10.32216988  25.25287118 -13.92198753\n",
            " -21.74675295  11.8858025  -20.22916482  26.96178302   9.33330674\n",
            " -16.14836032 -17.47086394  25.43250235   6.47147477  23.6241604\n",
            " -23.38648771  25.52353173   1.20295872  10.10531498  -7.62747171\n",
            " -26.45158068  27.47834648  29.67589975  -8.12718907  26.63207579\n",
            " -19.93642254 -20.71893302 -25.6132896   -6.52383554 -26.86186499]\n",
            "shape of sample before is: (50, 28, 28)\n",
            "len(sample.shape) 3\n",
            "angle is: [0.39465719 0.13839043 0.7305278  0.83336265 0.68781543 0.20049415\n",
            " 0.76684819 0.2495002  0.7594886  0.56739757 0.36671252 0.08349238\n",
            " 0.82750951 0.93965292 0.66591778 0.96454157 0.93411142 0.1946084\n",
            " 0.73121235 0.34930482 0.48751736 0.15696543 0.97477943 0.72613738\n",
            " 0.26690831 0.37147169 0.42248293 0.74753372 0.92569727 0.32144013\n",
            " 0.47250009 0.59320757 0.39334399 0.50418132 0.10570763 0.16767439\n",
            " 0.40110126 0.91493901 0.34935805 0.24979281 0.74286222 0.94913017\n",
            " 0.45912362 0.00860496 0.68814933 0.4150608  0.67364554 0.27771652\n",
            " 0.00240814 0.34449622]\n",
            "angle with constraint is: [ -6.32056862 -21.69657428  13.83166773  20.00175896  11.26892567\n",
            " -17.97035085  16.01089157 -15.02998818  15.56931582   4.04385449\n",
            "  -7.99724902 -24.99045732  19.65057059  26.37917525   9.9550668\n",
            "  27.872494    26.04668514 -18.32349595  13.87274092  -9.04171083\n",
            "  -0.74895837 -20.58207413  28.48676568  13.56824298 -13.98550142\n",
            "  -7.71169859  -4.65102439  14.85202345  25.54183601 -10.71359202\n",
            "  -1.6499947    5.59245437  -6.39936046   0.2508794  -23.65754226\n",
            " -19.93953674  -5.93392457  24.89634071  -9.03851726 -15.01243148\n",
            "  14.57173325  26.94780996  -2.45258298 -29.48370267  11.28895989\n",
            "  -5.0963519   10.4187322  -13.33700905 -29.85551137  -9.33022688]\n",
            "Accuracy after rotation augmentation is  0.6639\n"
          ]
        }
      ]
    },
    {
      "cell_type": "markdown",
      "source": [
        "The angle constraint is a hyperparameter which we have to tune using a validation set. (Here we are not doing that for time constraints). Let us try a grid search to find the best angle constraint."
      ],
      "metadata": {
        "id": "R6vwKYxNnjvS"
      }
    },
    {
      "cell_type": "code",
      "source": [
        "angleconstraints = [0,10,20,30,40,50,60,70,80,90] # the values we want to test\n",
        "accuracies = np.zeros(len(angleconstraints), dtype=np.float) # we will save the values here\n",
        "\n",
        "for ii in range(len(angleconstraints)):\n",
        "  # create the augmented dataset\n",
        "  augdata = train_X # we include the original images also in the augmented dataset\n",
        "  auglabel = train_y\n",
        "  for jj in range(naugmentations):\n",
        "    augdata = np.concatenate((augdata, augRotate(train_X, angleconstraints[ii]))) # concatenate the augmented data to the set\n",
        "    auglabel = np.concatenate((auglabel, train_y))  # the labels don't change when we augment\n",
        "\n",
        "  # check the test accuracy\n",
        "  testpred = NN(augdata, auglabel, test_X)\n",
        "  accuracies[ii] = Accuracy(test_y, testpred)\n",
        "  print('Accuracy after rotation augmentation constrained by ',angleconstraints[ii], ' is ', accuracies[ii], flush=True)"
      ],
      "metadata": {
        "colab": {
          "base_uri": "https://localhost:8080/"
        },
        "id": "2TuE7cTCnZ9g",
        "outputId": "ad98c608-7fe9-4f62-d8d4-54f0a6c7da65"
      },
      "execution_count": null,
      "outputs": [
        {
          "output_type": "stream",
          "name": "stderr",
          "text": [
            "/usr/local/lib/python3.7/dist-packages/ipykernel_launcher.py:2: DeprecationWarning: `np.float` is a deprecated alias for the builtin `float`. To silence this warning, use `float` by itself. Doing this will not modify any behavior and is safe. If you specifically wanted the numpy scalar type, use `np.float64` here.\n",
            "Deprecated in NumPy 1.20; for more details and guidance: https://numpy.org/devdocs/release/1.20.0-notes.html#deprecations\n",
            "  \n"
          ]
        },
        {
          "output_type": "stream",
          "name": "stdout",
          "text": [
            "Accuracy after rotation augmentation constrained by  0  is  0.6472\n",
            "shape of sample before is: (50, 28, 28)\n",
            "len(sample.shape) 3\n",
            "angle is: [0.84971982 0.80095524 0.16304853 0.67342098 0.85683726 0.81976759\n",
            " 0.42563244 0.04809284 0.93116942 0.39588512 0.36097664 0.75951494\n",
            " 0.26397222 0.83474792 0.07605156 0.7407112  0.96578949 0.9957688\n",
            " 0.92380436 0.87076241 0.27888022 0.96664836 0.92789659 0.53437251\n",
            " 0.40207765 0.10926725 0.59063408 0.70054595 0.40399658 0.40602956\n",
            " 0.57331139 0.0277841  0.9578659  0.28990571 0.14089086 0.0054884\n",
            " 0.85689154 0.86320738 0.0953066  0.1522413  0.44790223 0.18570417\n",
            " 0.73582114 0.05803975 0.54970933 0.38279157 0.46494648 0.42475712\n",
            " 0.15315918 0.22028149]\n",
            "angle with constraint is: [ 3.49719816  3.00955242 -3.36951466  1.73420978  3.56837265  3.19767589\n",
            " -0.74367557 -4.5190716   4.31169423 -1.04114884 -1.39023363  2.59514944\n",
            " -2.36027785  3.34747923 -4.23948439  2.40711201  4.6578949   4.95768797\n",
            "  4.2380436   3.70762405 -2.21119776  4.66648363  4.27896594  0.34372507\n",
            " -0.97922346 -3.90732746  0.90634078  2.00545949 -0.96003417 -0.93970439\n",
            "  0.73311391 -4.72215904  4.57865896 -2.10094293 -3.59109138 -4.94511604\n",
            "  3.56891541  3.63207376 -4.04693395 -3.47758697 -0.52097769 -3.14295827\n",
            "  2.35821137 -4.41960254  0.49709332 -1.17208435 -0.35053516 -0.75242882\n",
            " -3.46840817 -2.79718515]\n",
            "shape of sample before is: (50, 28, 28)\n",
            "len(sample.shape) 3\n",
            "angle is: [0.0648077  0.11528558 0.97789482 0.27978681 0.30702554 0.12710633\n",
            " 0.7551642  0.92414281 0.78975054 0.61261583 0.81323292 0.40423023\n",
            " 0.85949736 0.79851885 0.00172464 0.48779413 0.26461658 0.08623292\n",
            " 0.84619604 0.00794968 0.7301635  0.98819212 0.48201977 0.37124053\n",
            " 0.60583295 0.80469783 0.24025199 0.25070143 0.60717801 0.93987982\n",
            " 0.29843998 0.37675466 0.9933333  0.17622217 0.07696817 0.58975524\n",
            " 0.02426699 0.18043323 0.62220918 0.6595124  0.51042525 0.38374805\n",
            " 0.57619758 0.64338575 0.80348205 0.79275083 0.66480077 0.89423258\n",
            " 0.83802525 0.13324601]\n",
            "angle with constraint is: [-4.35192301 -3.84714425  4.77894822 -2.20213188 -1.92974461 -3.7289367\n",
            "  2.55164204  4.2414281   2.89750537  1.12615829  3.13232916 -0.95769767\n",
            "  3.59497355  2.9851885  -4.98275356 -0.12205865 -2.35383424 -4.13767084\n",
            "  3.46196043 -4.92050316  2.30163502  4.88192121 -0.17980233 -1.2875947\n",
            "  1.05832954  3.04697828 -2.59748006 -2.49298571  1.07178014  4.39879821\n",
            " -2.01560024 -1.23245337  4.93333301 -3.23777835 -4.23031832  0.89755239\n",
            " -4.75733012 -3.19566769  1.22209181  1.59512401  0.1042525  -1.16251954\n",
            "  0.76197584  1.43385753  3.03482046  2.92750828  1.64800766  3.94232583\n",
            "  3.38025254 -3.66753992]\n",
            "shape of sample before is: (50, 28, 28)\n",
            "len(sample.shape) 3\n",
            "angle is: [0.95667944 0.8917423  0.32092718 0.02018442 0.60397595 0.43841758\n",
            " 0.74956666 0.52459976 0.07649044 0.24468742 0.88252376 0.0376897\n",
            " 0.73666967 0.29194351 0.4526398  0.53100543 0.25008136 0.65196044\n",
            " 0.69344222 0.08505948 0.37392708 0.7443773  0.72163756 0.54460334\n",
            " 0.77767478 0.10764489 0.11821127 0.6574893  0.69333387 0.81452686\n",
            " 0.18103688 0.51677166 0.6608313  0.22369957 0.51692787 0.63844502\n",
            " 0.21444951 0.37556341 0.21633881 0.9029429  0.23679888 0.12083463\n",
            " 0.03515531 0.04495347 0.19158623 0.60820851 0.01764987 0.28674392\n",
            " 0.05816689 0.40365877]\n",
            "angle with constraint is: [ 4.56679441  3.91742302 -1.7907282  -4.79815581  1.03975947 -0.61582423\n",
            "  2.49566663  0.24599765 -4.23509565 -2.5531258   3.82523756 -4.62310304\n",
            "  2.36669669 -2.08056492 -0.47360197  0.31005432 -2.49918643  1.51960443\n",
            "  1.93442218 -4.1494052  -1.26072924  2.44377301  2.2163756   0.44603344\n",
            "  2.7767478  -3.92355107 -3.81788732  1.574893    1.93333868  3.14526855\n",
            " -3.18963122  0.16771659  1.60831297 -2.76300426  0.16927866  1.38445024\n",
            " -2.85550489 -1.2443659  -2.8366119   4.02942904 -2.63201118 -3.79165374\n",
            " -4.64844688 -4.55046528 -3.08413765  1.08208511 -4.82350125 -2.13256075\n",
            " -4.41833109 -0.9634123 ]\n",
            "shape of sample before is: (50, 28, 28)\n",
            "len(sample.shape) 3\n",
            "angle is: [0.04857674 0.60754178 0.68842427 0.73133755 0.2243434  0.86850016\n",
            " 0.69028817 0.05665022 0.44076671 0.76775649 0.31089393 0.38155877\n",
            " 0.62960383 0.05548088 0.96693504 0.17448101 0.026672   0.00532298\n",
            " 0.39955437 0.88425337 0.81976208 0.9120458  0.53378232 0.44874623\n",
            " 0.38586098 0.04641808 0.90952126 0.49617609 0.45506743 0.51516749\n",
            " 0.79415452 0.22447109 0.70990068 0.71076974 0.84955278 0.0086836\n",
            " 0.17039554 0.47104685 0.85054039 0.96511686 0.59486861 0.21213398\n",
            " 0.1845847  0.63944395 0.21006915 0.55308742 0.83481193 0.38981965\n",
            " 0.37847219 0.03614034]\n",
            "angle with constraint is: [-4.51423262  1.07541777  1.88424266  2.3133755  -2.75656601  3.68500162\n",
            "  1.90288167 -4.43349781 -0.59233291  2.67756493 -1.89106073 -1.18441226\n",
            "  1.29603827 -4.4451912   4.66935041 -3.25518989 -4.73328    -4.94677018\n",
            " -1.00445625  3.84253365  3.19762079  4.12045798  0.33782319 -0.51253766\n",
            " -1.14139024 -4.53581924  4.09521256 -0.03823908 -0.44932569  0.15167487\n",
            "  2.94154518 -2.75528914  2.09900679  2.10769741  3.49552782 -4.91316402\n",
            " -3.29604457 -0.28953148  3.50540387  4.65116862  0.94868615 -2.87866025\n",
            " -3.15415304  1.39443954 -2.89930853  0.53087424  3.34811929 -1.10180352\n",
            " -1.2152781  -4.63859663]\n",
            "shape of sample before is: (50, 28, 28)\n",
            "len(sample.shape) 3\n",
            "angle is: [2.54084578e-01 6.98191460e-01 3.60391245e-01 1.58298917e-01\n",
            " 1.05767734e-01 9.50533782e-02 6.59133433e-01 6.12621479e-01\n",
            " 5.18521006e-01 5.00326448e-01 1.53136853e-01 5.00604225e-01\n",
            " 5.99377766e-02 9.25858459e-01 5.80275540e-02 4.23530195e-01\n",
            " 5.71056403e-04 7.86150439e-01 1.66170189e-01 9.24916018e-01\n",
            " 4.39777479e-02 8.20787335e-01 6.56637813e-01 2.49735719e-01\n",
            " 2.02419609e-01 3.57677933e-01 8.28402883e-01 8.61956548e-01\n",
            " 1.75285380e-01 3.53448040e-01 2.37491384e-01 1.22642848e-01\n",
            " 6.46449388e-01 3.45871023e-01 2.25384045e-01 8.65997774e-01\n",
            " 7.48317931e-01 7.73761149e-01 3.91958912e-02 9.15130449e-01\n",
            " 5.74738378e-01 5.03802805e-01 1.05853460e-02 8.97662210e-01\n",
            " 5.43890470e-01 8.25153462e-01 6.55510961e-01 7.96693614e-01\n",
            " 6.92931749e-01 9.20963902e-01]\n",
            "angle with constraint is: [-2.45915422e+00  1.98191460e+00 -1.39608755e+00 -3.41701083e+00\n",
            " -3.94232266e+00 -4.04946622e+00  1.59133433e+00  1.12621479e+00\n",
            "  1.85210056e-01  3.26448159e-03 -3.46863147e+00  6.04224760e-03\n",
            " -4.40062223e+00  4.25858459e+00 -4.41972446e+00 -7.64698051e-01\n",
            " -4.99428944e+00  2.86150439e+00 -3.33829811e+00  4.24916018e+00\n",
            " -4.56022252e+00  3.20787335e+00  1.56637813e+00 -2.50264281e+00\n",
            " -2.97580391e+00 -1.42322067e+00  3.28402883e+00  3.61956548e+00\n",
            " -3.24714620e+00 -1.46551960e+00 -2.62508616e+00 -3.77357152e+00\n",
            "  1.46449388e+00 -1.54128977e+00 -2.74615955e+00  3.65997774e+00\n",
            "  2.48317931e+00  2.73761149e+00 -4.60804109e+00  4.15130449e+00\n",
            "  7.47383780e-01  3.80280468e-02 -4.89414654e+00  3.97662210e+00\n",
            "  4.38904705e-01  3.25153462e+00  1.55510961e+00  2.96693614e+00\n",
            "  1.92931749e+00  4.20963902e+00]\n",
            "Accuracy after rotation augmentation constrained by  10  is  0.6713\n",
            "shape of sample before is: (50, 28, 28)\n",
            "len(sample.shape) 3\n",
            "angle is: [0.22548419 0.2021001  0.71254156 0.5013948  0.59916117 0.70854247\n",
            " 0.5474282  0.78769345 0.31886736 0.85899044 0.10767635 0.63400398\n",
            " 0.89013251 0.25269413 0.32683467 0.30544178 0.56426371 0.41287182\n",
            " 0.10795928 0.89128722 0.20467663 0.53408001 0.5948049  0.04075184\n",
            " 0.09571233 0.97168971 0.66451234 0.03356518 0.79419922 0.50854281\n",
            " 0.07519957 0.6807521  0.49935181 0.2049198  0.87770227 0.29137986\n",
            " 0.28455664 0.27277358 0.76745578 0.70611867 0.90314569 0.22933922\n",
            " 0.7863646  0.57304558 0.30867961 0.03545413 0.81894755 0.24107137\n",
            " 0.63174304 0.54886794]\n",
            "angle with constraint is: [-5.49031627 -5.95799791  4.25083124  0.02789601  1.98322341  4.17084938\n",
            "  0.94856394  5.75386895 -3.62265288  7.17980887 -7.84647294  2.68007954\n",
            "  7.80265015 -4.94611744 -3.4633065  -3.89116443  1.28527424 -1.74256369\n",
            " -7.8408143   7.82574444 -5.90646742  0.68160022  1.89609792 -9.18496313\n",
            " -8.08575345  9.43379421  3.2902468  -9.32869646  5.88398441  0.17085619\n",
            " -8.49600856  3.61504196 -0.01296388 -5.90160398  7.55404544 -4.17240283\n",
            " -4.30886729 -4.54452836  5.34911554  4.12237341  8.06291371 -5.41321561\n",
            "  5.72729191  1.46091153 -3.82640781 -9.29091735  6.378951   -5.17857257\n",
            "  2.63486072  0.97735872]\n",
            "shape of sample before is: (50, 28, 28)\n",
            "len(sample.shape) 3\n",
            "angle is: [0.00444954 0.99434363 0.81432936 0.48647127 0.68034137 0.47659424\n",
            " 0.74458627 0.13432855 0.446351   0.33553718 0.45965524 0.45047265\n",
            " 0.14309395 0.97648857 0.01549214 0.01007294 0.37344132 0.62037635\n",
            " 0.17965323 0.533194   0.72277197 0.09406061 0.98442241 0.33670065\n",
            " 0.64241541 0.11071986 0.70948639 0.84045635 0.10528514 0.12586315\n",
            " 0.28104741 0.01193582 0.98605129 0.59838407 0.60758945 0.95896217\n",
            " 0.83202925 0.81424293 0.33950237 0.33486339 0.29173796 0.34669576\n",
            " 0.36950876 0.14000369 0.35594786 0.44674704 0.30934734 0.16534697\n",
            " 0.3734104  0.48090777]\n",
            "angle with constraint is: [-9.91100923  9.8868726   6.28658712 -0.27057459  3.6068274  -0.46811527\n",
            "  4.89172543 -7.31342908 -1.0729801  -3.28925646 -0.80689513 -0.99054694\n",
            " -7.138121    9.52977141 -9.69015714 -9.7985411  -2.53117363  2.40752699\n",
            " -6.40693546  0.66388008  4.45543936 -8.11878782  9.68844816 -3.26598705\n",
            "  2.84830828 -7.78560284  4.18972777  6.80912694 -7.89429715 -7.48273691\n",
            " -4.37905171 -9.76128369  9.72102589  1.9676815   2.151789    9.17924339\n",
            "  6.64058509  6.28485862 -3.2099526  -3.30273213 -4.1652408  -3.06608476\n",
            " -2.60982477 -7.19992622 -2.88104275 -1.0650593  -3.81305323 -6.69306064\n",
            " -2.53179204 -0.38184454]\n",
            "shape of sample before is: (50, 28, 28)\n",
            "len(sample.shape) 3\n",
            "angle is: [0.72072839 0.71123776 0.20269503 0.0366554  0.30379952 0.1571363\n",
            " 0.39578848 0.97934612 0.18107137 0.31887394 0.72511432 0.50918278\n",
            " 0.04392814 0.16169002 0.93524955 0.10316499 0.63509279 0.79232565\n",
            " 0.26543906 0.725078   0.16989518 0.28475027 0.31182203 0.99643499\n",
            " 0.2145723  0.12920746 0.92569144 0.16193069 0.87927992 0.65045663\n",
            " 0.5768615  0.75133871 0.72599896 0.11052619 0.99946611 0.94188973\n",
            " 0.89659196 0.62228913 0.52279133 0.53627858 0.01493694 0.4994695\n",
            " 0.62376957 0.65870621 0.33213947 0.47128235 0.63631061 0.42830551\n",
            " 0.9621352  0.70544211]\n",
            "angle with constraint is: [ 4.41456773  4.22475523 -5.94609938 -9.2668921  -3.92400956 -6.8572739\n",
            " -2.08423042  9.58692238 -6.37857258 -3.62252113  4.50228633  0.18365566\n",
            " -9.12143713 -6.76619964  8.7049911  -7.93670015  2.70185574  5.84651298\n",
            " -4.69121875  4.50156006 -6.60209642 -4.3049945  -3.76355938  9.92869981\n",
            " -5.7085541  -7.41585071  8.51382875 -6.76138612  7.58559839  3.00913255\n",
            "  1.53722996  5.02677423  4.51997914 -7.78947621  9.98932221  8.83779453\n",
            "  7.93183926  2.44578268  0.45582663  0.72557168 -9.70126112 -0.01060996\n",
            "  2.47539135  3.17412418 -3.3572107  -0.57435299  2.72621213 -1.43388979\n",
            "  9.24270398  4.1088422 ]\n",
            "shape of sample before is: (50, 28, 28)\n",
            "len(sample.shape) 3\n",
            "angle is: [0.00127375 0.02327948 0.6903002  0.4126451  0.83947095 0.17301541\n",
            " 0.01382691 0.38808235 0.7360641  0.97172773 0.88365388 0.48407461\n",
            " 0.81281728 0.07033046 0.57227235 0.92429841 0.39638515 0.96010063\n",
            " 0.2206851  0.10563381 0.52476234 0.90724687 0.31127922 0.80016032\n",
            " 0.16919727 0.7455704  0.55702694 0.17501698 0.71808725 0.71375611\n",
            " 0.51543523 0.22546764 0.13229389 0.95725505 0.65581254 0.80924148\n",
            " 0.69697053 0.82947367 0.16249082 0.49695022 0.66712477 0.1033899\n",
            " 0.14995695 0.63398259 0.8687058  0.66041618 0.03620481 0.97043292\n",
            " 0.1395069  0.23256223]\n",
            "angle with constraint is: [-9.97452507 -9.53441037  3.80600407 -1.74709805  6.78941898 -6.53969181\n",
            " -9.72346172 -2.238353    4.72128209  9.43455467  7.67307759 -0.31850776\n",
            "  6.25634566 -8.59339084  1.44544695  8.48596826 -2.07229705  9.20201259\n",
            " -5.58629807 -7.88732381  0.49524672  8.14493744 -3.77441563  6.00320639\n",
            " -6.61605468  4.91140792  1.14053883 -6.49966049  4.36174499  4.27512227\n",
            "  0.30870458 -5.49064725 -7.35412216  9.14510097  3.11625077  6.18482967\n",
            "  3.93941058  6.5894733  -6.75018361 -0.06099551  3.34249541 -7.932202\n",
            " -7.00086101  2.67965189  7.37411609  3.20832358 -9.27590373  9.40865834\n",
            " -7.20986198 -5.34875533]\n",
            "shape of sample before is: (50, 28, 28)\n",
            "len(sample.shape) 3\n",
            "angle is: [0.97496728 0.771033   0.93657668 0.80661969 0.65173448 0.284553\n",
            " 0.32688144 0.94727107 0.86062562 0.35949045 0.37326742 0.29769439\n",
            " 0.32613014 0.86066747 0.01050686 0.43605262 0.94283968 0.54263636\n",
            " 0.45044579 0.3123698  0.07391263 0.22448648 0.09045841 0.12669943\n",
            " 0.16351654 0.30202943 0.01101668 0.95014389 0.12381909 0.38314887\n",
            " 0.87952756 0.10656797 0.48360425 0.8447836  0.55696262 0.2103436\n",
            " 0.73550953 0.68134106 0.36218591 0.04629516 0.00786469 0.82539288\n",
            " 0.32155736 0.1377699  0.51855123 0.9208333  0.00848086 0.05614354\n",
            " 0.41704493 0.67596591]\n",
            "angle with constraint is: [ 9.49934564  5.42065993  8.73153361  6.13239386  3.0346895  -4.30894002\n",
            " -3.46237117  8.94542146  7.21251232 -2.81019103 -2.53465165 -4.04611219\n",
            " -3.47739715  7.21334933 -9.78986287 -1.27894758  8.85679357  0.8527271\n",
            " -0.9910842  -3.75260391 -8.5217474  -5.51027044 -8.1908318  -7.46601141\n",
            " -6.72966912 -3.95941136 -9.7796664   9.00287771 -7.52361815 -2.33702255\n",
            "  7.59055119 -7.8686406  -0.32791496  6.89567195  1.13925248 -5.79312809\n",
            "  4.71019063  3.62682126 -2.75628187 -9.07409677 -9.8427062   6.50785766\n",
            " -3.56885277 -7.24460203  0.37102452  8.41666591 -9.83038271 -8.87712919\n",
            " -1.65910135  3.51931814]\n",
            "Accuracy after rotation augmentation constrained by  20  is  0.6819\n",
            "shape of sample before is: (50, 28, 28)\n",
            "len(sample.shape) 3\n",
            "angle is: [4.76100459e-01 8.97548438e-01 4.40845555e-02 3.40140870e-01\n",
            " 3.51347889e-01 3.40127226e-01 4.87685912e-01 7.90577045e-01\n",
            " 3.17882616e-01 7.44483207e-01 1.46465471e-01 5.60724856e-01\n",
            " 3.75088026e-01 5.39210802e-01 1.07749750e-01 9.53462847e-01\n",
            " 9.06214117e-01 8.26396304e-01 8.92782823e-01 1.46687870e-01\n",
            " 5.03721773e-01 3.17909159e-01 8.87385941e-01 1.89437682e-01\n",
            " 2.19945355e-01 6.86714456e-01 8.88996591e-02 7.32367177e-01\n",
            " 2.68127288e-01 6.60935365e-01 8.73037786e-01 6.09611373e-01\n",
            " 2.12683733e-01 4.91655255e-02 4.46139717e-02 8.88118820e-02\n",
            " 5.79817912e-01 3.48217854e-01 2.43106977e-01 2.19306558e-01\n",
            " 9.48581532e-01 1.18816576e-01 3.04814411e-01 4.71477262e-01\n",
            " 4.49526074e-04 9.20953187e-01 9.90985908e-02 6.82470601e-01\n",
            " 6.28865477e-01 8.09063855e-01]\n",
            "angle with constraint is: [ -0.71698624  11.92645315 -13.67746333  -4.79577391  -4.45956332\n",
            "  -4.79618322  -0.36942264   8.71731136  -5.46352151   7.3344962\n",
            " -10.60603586   1.82174567  -3.74735923   1.17632407 -11.76750749\n",
            "  13.6038854   12.1864235    9.79188913  11.7834847  -10.59936389\n",
            "   0.11165319  -5.46272524  11.62157824  -9.31686953  -8.40163935\n",
            "   5.60143369 -12.33301023   6.97101531  -6.95618135   4.82806096\n",
            "  11.19113359   3.2883412   -8.619488   -13.52503423 -13.66158085\n",
            " -12.33564354   2.39453737  -4.55346438  -7.70679068  -8.42080327\n",
            "  13.45744596 -11.43550272  -5.85556768  -0.85568214 -14.98651422\n",
            "  12.62859562 -12.02704228   5.47411802   3.86596431   9.27191565]\n",
            "shape of sample before is: (50, 28, 28)\n",
            "len(sample.shape) 3\n",
            "angle is: [6.51387731e-01 7.69387417e-01 4.21248609e-01 4.88704495e-01\n",
            " 7.01662102e-01 5.68426721e-01 5.11538550e-01 2.05558406e-01\n",
            " 2.58108261e-01 3.58497241e-01 9.28438542e-03 4.17363450e-01\n",
            " 2.76847576e-03 5.65015436e-01 7.04028769e-01 5.62148632e-01\n",
            " 6.93519973e-01 1.31685562e-05 5.94419733e-02 6.98462441e-01\n",
            " 8.02900148e-01 7.17701571e-01 6.63012243e-01 7.07382664e-01\n",
            " 7.39589926e-01 7.24377498e-01 7.38008478e-01 7.40197074e-02\n",
            " 6.32715515e-02 3.61119943e-01 5.27596715e-01 7.62619054e-01\n",
            " 3.34707819e-01 2.75117077e-01 7.81448308e-01 2.49336851e-01\n",
            " 8.20841377e-01 1.77133550e-01 3.59473523e-01 4.01075609e-01\n",
            " 2.99510447e-01 3.35691389e-03 2.35509258e-01 3.37653559e-01\n",
            " 3.13624895e-01 7.85555496e-01 4.73677625e-02 3.88948700e-01\n",
            " 3.75154556e-02 9.30647566e-01]\n",
            "angle with constraint is: [  4.54163192   8.08162252  -2.36254174  -0.33886516   6.04986306\n",
            "   2.05280163   0.34615651  -8.83324782  -7.25675218  -4.24508277\n",
            " -14.72146844  -2.47909651 -14.91694573   1.95046308   6.12086307\n",
            "   1.86445895   5.8055992  -14.99960494 -13.2167408    5.95387323\n",
            "   9.08700444   6.53104713   4.89036728   6.22147991   7.18769777\n",
            "   6.73132495   7.14025433 -12.77940878 -13.10185346  -4.1664017\n",
            "   0.82790144   7.87857162  -4.95876544  -6.7464877    8.44344924\n",
            "  -7.51989446   9.6252413   -9.68599351  -4.21579431  -2.96773172\n",
            "  -6.01468658 -14.89929258  -7.93472227  -4.87039323  -5.59125316\n",
            "   8.56666489 -13.57896712  -3.33153901 -13.87453633  12.91942698]\n",
            "shape of sample before is: (50, 28, 28)\n",
            "len(sample.shape) 3\n",
            "angle is: [0.79020944 0.9821616  0.91016053 0.31581277 0.69158341 0.30655409\n",
            " 0.88821119 0.41075287 0.37588754 0.91406874 0.83674029 0.96641355\n",
            " 0.06648809 0.24333888 0.30085775 0.42435206 0.47313005 0.29147243\n",
            " 0.79045042 0.22324414 0.69651731 0.85176832 0.60369824 0.35415893\n",
            " 0.18789124 0.13434619 0.74417474 0.469132   0.04631955 0.98383951\n",
            " 0.67130318 0.84418255 0.43818867 0.95543862 0.19952502 0.18513612\n",
            " 0.89033473 0.89171706 0.49901949 0.12578636 0.30521646 0.75415234\n",
            " 0.84599191 0.34765475 0.06123368 0.66572668 0.73949704 0.42401468\n",
            " 0.58309761 0.9873715 ]\n",
            "angle with constraint is: [  8.70628311  14.46484798  12.30481595  -5.52561684   5.74750237\n",
            "  -5.80337738  11.64633564  -2.6774139   -3.72337374  12.42206233\n",
            "  10.10220863  13.9924066  -13.00535743  -7.69983366  -5.97426756\n",
            "  -2.26943817  -0.80609862  -6.25582716   8.71351269  -8.30267567\n",
            "   5.8955194   10.55304947   3.11094717  -4.37523222  -9.36326273\n",
            " -10.96961417   7.32524217  -0.92604007 -13.61041346  14.51518521\n",
            "   5.13909549  10.32547654  -1.85433986  13.66315862  -9.01424937\n",
            "  -9.44591631  11.71004204  11.75151192  -0.02941544 -11.22640934\n",
            "  -5.84350625   7.62457014  10.37975724  -4.57035757 -13.16298955\n",
            "   4.97180045   7.18491124  -2.27955972   2.49292835  14.62114493]\n",
            "shape of sample before is: (50, 28, 28)\n",
            "len(sample.shape) 3\n",
            "angle is: [0.2449986  0.57297769 0.61096041 0.5491072  0.86912956 0.60500753\n",
            " 0.50789002 0.12301503 0.7032092  0.13210736 0.02656989 0.48853116\n",
            " 0.57244527 0.99905406 0.71232679 0.84859032 0.34638804 0.50891468\n",
            " 0.97426899 0.41738855 0.80729042 0.52598912 0.22396185 0.58041864\n",
            " 0.21806203 0.00302699 0.23589602 0.19314383 0.37092118 0.8885969\n",
            " 0.38785307 0.84518763 0.55561302 0.0076147  0.18873671 0.93127805\n",
            " 0.60417345 0.92954686 0.31012002 0.71656238 0.77202516 0.9756996\n",
            " 0.01817648 0.95223722 0.39159022 0.83799241 0.54471292 0.56464954\n",
            " 0.35937789 0.82847259]\n",
            "angle with constraint is: [ -7.65004202   2.18933081   3.32881241   1.47321588  11.07388674\n",
            "   3.15022596   0.23670067 -11.3095492    6.09627598 -11.03677916\n",
            " -14.2029032   -0.34406511   2.17335816  14.97162184   6.36980383\n",
            "  10.45770961  -4.60835883   0.26744048  14.22806972  -2.47834344\n",
            "   9.21871274   0.77967353  -8.28114445   2.41255912  -8.45813915\n",
            " -14.9091903   -7.92311954  -9.20568503  -3.87236468  11.65790711\n",
            "  -3.36440779  10.35562882   1.6683906  -14.77155887  -9.33789861\n",
            "  12.93834136   3.12520339  12.88640576  -5.69639939   6.49687135\n",
            "   8.1607548   14.27098808 -14.4547055   13.56711645  -3.25229347\n",
            "  10.13977217   1.34138755   1.93948629  -4.21866335   9.85417771]\n",
            "shape of sample before is: (50, 28, 28)\n",
            "len(sample.shape) 3\n",
            "angle is: [0.26401357 0.49224139 0.5601745  0.74252109 0.47163534 0.6802829\n",
            " 0.4852941  0.65932064 0.67414348 0.70944156 0.82329979 0.54072256\n",
            " 0.19327816 0.67964084 0.07711808 0.21895502 0.79215753 0.43507014\n",
            " 0.49804417 0.98739692 0.23517249 0.01955275 0.11137261 0.24450186\n",
            " 0.72592002 0.77582203 0.56548895 0.2550464  0.52174189 0.01495756\n",
            " 0.68180094 0.61429756 0.02179654 0.81701163 0.76342654 0.30822375\n",
            " 0.63537665 0.60149296 0.14318028 0.1932593  0.68320614 0.93355165\n",
            " 0.57628432 0.56781315 0.64668169 0.4405783  0.05417204 0.39650385\n",
            " 0.90025221 0.8049468 ]\n",
            "angle with constraint is: [ -7.07959287  -0.23275841   1.80523496   7.2756328   -0.85093989\n",
            "   5.40848697  -0.44117711   4.77961911   5.22430429   6.28324682\n",
            "   9.69899382   1.22167683  -9.20165508   5.38922525 -12.6864575\n",
            "  -8.43134933   8.76472586  -1.94789567  -0.05867497  14.62190755\n",
            "  -7.94482542 -14.41341751 -11.65882171  -7.66494421   6.77760073\n",
            "   8.27466096   1.96466862  -7.34860804   0.65225684 -14.55127332\n",
            "   5.45402828   3.42892666 -14.34610382   9.51034901   7.90279605\n",
            "  -5.75328763   4.06129952   3.0447889  -10.70459162  -9.20222097\n",
            "   5.49618409  13.00654939   2.28852962   2.03439437   4.40045084\n",
            "  -1.78265099 -13.37483869  -3.1048846   12.0075663    9.14840401]\n",
            "Accuracy after rotation augmentation constrained by  30  is  0.6862\n",
            "shape of sample before is: (50, 28, 28)\n",
            "len(sample.shape) 3\n",
            "angle is: [0.92742357 0.15283159 0.50595776 0.58472815 0.20992551 0.20097024\n",
            " 0.78203293 0.67185192 0.64718754 0.26698746 0.50676942 0.02306995\n",
            " 0.12994605 0.51825086 0.30967228 0.96566976 0.47148472 0.08356416\n",
            " 0.01784235 0.72525787 0.17150674 0.18781237 0.42380722 0.26406059\n",
            " 0.61657708 0.48569251 0.1114506  0.78474085 0.42585885 0.61083432\n",
            " 0.00394233 0.62640003 0.28284986 0.49437074 0.2977206  0.99626074\n",
            " 0.23084231 0.9128596  0.91796663 0.42100065 0.30400312 0.38103555\n",
            " 0.98933909 0.61879623 0.54478024 0.03591788 0.84784303 0.08380546\n",
            " 0.04697237 0.27485809]\n",
            "angle with constraint is: [ 17.09694274 -13.88673659   0.23831028   3.38912619 -11.6029796\n",
            " -11.96119043  11.28131731   6.87407668   5.88750147  -9.32050168\n",
            "   0.27077697 -19.07720186 -14.8021579    0.73003451  -7.61310897\n",
            "  18.62679028  -1.14061107 -16.65743375 -19.28630611   9.01031495\n",
            " -13.13973048 -12.48750524  -3.04771109  -9.43757643   4.66308319\n",
            "  -0.57229971 -15.54197594  11.38963392  -2.96564582   4.43337278\n",
            " -19.8423067    5.05600134  -8.68600572  -0.22517027  -8.09117585\n",
            "  19.85042979 -10.76630741  16.51438406  16.71866527  -3.15997388\n",
            "  -7.83987538  -4.75857812  19.5735635    4.75184909   1.79120951\n",
            " -18.56328475  13.91372122 -16.64778177 -18.12110532  -9.00567656]\n",
            "shape of sample before is: (50, 28, 28)\n",
            "len(sample.shape) 3\n",
            "angle is: [0.47578861 0.89528896 0.7900788  0.19763214 0.37207953 0.78024026\n",
            " 0.52709245 0.17449194 0.3960552  0.6259358  0.97322567 0.66181205\n",
            " 0.01619516 0.70500828 0.25086481 0.86215891 0.38388991 0.19961504\n",
            " 0.46794719 0.25519797 0.23582149 0.5732618  0.76734627 0.83495437\n",
            " 0.39766987 0.06680376 0.483975   0.43378148 0.19697895 0.8961449\n",
            " 0.97414825 0.05174719 0.79574638 0.64571656 0.26143626 0.63515612\n",
            " 0.12864319 0.06940651 0.99348908 0.63636986 0.25322262 0.45003396\n",
            " 0.95008818 0.43872507 0.90044453 0.8688092  0.34415632 0.696009\n",
            " 0.6604985  0.77121187]\n",
            "angle with constraint is: [ -0.9684558   15.8115584   11.60315196 -12.09471422  -5.11681886\n",
            "  11.20961058   1.0836979  -13.02032232  -4.15779189   5.03743218\n",
            "  18.92902699   6.47248219 -19.35219351   8.20033107  -9.9654077\n",
            "  14.48635657  -4.64440367 -12.01539849  -1.28211254  -9.79208103\n",
            " -10.56714046   2.93047203  10.69385083  13.39817497  -4.09320518\n",
            " -17.32784946  -0.64100006  -2.64874092 -12.12084207  15.84579605\n",
            "  18.96593012 -17.93011248  11.82985519   5.82866232  -9.54254967\n",
            "   5.40624473 -14.85427233 -17.22373967  19.739563     5.45479434\n",
            "  -9.87109502  -1.99864176  18.00352729  -2.45099726  16.01778128\n",
            "  14.75236792  -6.23374736   7.84036016   6.41994015  10.84847482]\n",
            "shape of sample before is: (50, 28, 28)\n",
            "len(sample.shape) 3\n",
            "angle is: [0.36592916 0.0522365  0.17103924 0.61655369 0.77510019 0.75604863\n",
            " 0.58368159 0.08475815 0.01728863 0.78214176 0.54937643 0.7827121\n",
            " 0.16278846 0.40742317 0.91916929 0.17159799 0.0615269  0.65346738\n",
            " 0.59453634 0.95203051 0.90646842 0.74943039 0.01915724 0.48038697\n",
            " 0.89610194 0.43365109 0.96214572 0.65248798 0.10945713 0.50927208\n",
            " 0.69561714 0.06536897 0.34464953 0.71708106 0.15707136 0.3483399\n",
            " 0.68991032 0.7755409  0.51851179 0.95685753 0.92533086 0.47343705\n",
            " 0.16027441 0.77293156 0.24313958 0.84282131 0.58714434 0.39409301\n",
            " 0.55638336 0.53280877]\n",
            "angle with constraint is: [ -5.36283343 -17.91054006 -13.15843036   4.66214751  11.00400748\n",
            "  10.24194538   3.3472634  -16.60967417 -19.30845491  11.28567029\n",
            "   1.97505737  11.30848411 -13.48846154  -3.70307317  16.76677148\n",
            " -13.13608035 -17.53892385   6.13869535   3.78145362  18.08122023\n",
            "  16.25873684   9.97721561 -19.23371048  -0.78452126  15.84407746\n",
            "  -2.65395648  18.48582878   6.09951923 -15.6217149    0.37088301\n",
            "   7.82468543 -17.38524111  -6.21401872   8.68324252 -13.71714551\n",
            "  -6.06640407   7.5964129   11.02163607   0.74047175  18.27430111\n",
            "  17.01323435  -1.06251784 -13.5890236   10.91726256 -10.27441698\n",
            "  13.7128524    3.48577365  -4.23627974   2.25533434   1.31235074]\n",
            "shape of sample before is: (50, 28, 28)\n",
            "len(sample.shape) 3\n",
            "angle is: [0.92473285 0.21436305 0.92815845 0.03134104 0.76920328 0.91966813\n",
            " 0.39405219 0.07306719 0.80466753 0.84286486 0.33625739 0.51859329\n",
            " 0.80946907 0.19204298 0.62897576 0.43063066 0.17441575 0.83144021\n",
            " 0.32468083 0.93442612 0.56893387 0.51450998 0.42330594 0.40067089\n",
            " 0.81796627 0.67750085 0.77369013 0.42108416 0.26143722 0.08686522\n",
            " 0.77665599 0.41527643 0.50922359 0.46934324 0.43113786 0.68389958\n",
            " 0.60873412 0.9720538  0.13890391 0.57351931 0.06324016 0.80791842\n",
            " 0.61631133 0.42837882 0.80223565 0.45500261 0.2277861  0.47250076\n",
            " 0.0708318  0.89786111]\n",
            "angle with constraint is: [ 16.98931384 -11.42547801  17.1263381  -18.74635834  10.76813126\n",
            "  16.78672523  -4.23791236 -17.07731252  12.18670126  13.71459423\n",
            "  -6.54970448   0.74373143  12.37876272 -12.31828091   5.15903026\n",
            "  -2.77477362 -13.02336991  13.25760829  -7.01276671  17.37704463\n",
            "   2.75735479   0.58039926  -3.06776223  -3.97316441  12.71865099\n",
            "   7.10003398  10.94760524  -3.15663362  -9.54251101 -16.52539126\n",
            "  11.0662396   -3.38894278   0.36894368  -1.22627059  -2.75448575\n",
            "   7.35598308   4.34936463  18.88215195 -14.44384369   2.94077253\n",
            " -17.47039346  12.31673675   4.65245333  -2.86484736  12.08942619\n",
            "  -1.79989566 -10.88855619  -1.09996956 -17.16672813  15.91444439]\n",
            "shape of sample before is: (50, 28, 28)\n",
            "len(sample.shape) 3\n",
            "angle is: [0.73095837 0.76031579 0.8744933  0.79157259 0.43185259 0.1186364\n",
            " 0.37336478 0.93408471 0.94909049 0.76787087 0.20443058 0.19444986\n",
            " 0.87977151 0.14191592 0.58413748 0.37825168 0.30201101 0.67738203\n",
            " 0.95956908 0.77763374 0.48616259 0.44071151 0.90766419 0.5781071\n",
            " 0.49663902 0.68283587 0.23715382 0.06373549 0.85511144 0.6072617\n",
            " 0.1648771  0.29804793 0.98993351 0.63442363 0.63611214 0.07216366\n",
            " 0.96899173 0.89278289 0.54778244 0.30938892 0.69805523 0.83337439\n",
            " 0.78612141 0.97704737 0.6368554  0.32122543 0.49792761 0.81631717\n",
            " 0.26534259 0.23140825]\n",
            "angle with constraint is: [  9.23833499  10.41263145  14.97973216  11.66290355  -2.72589639\n",
            " -15.25454394  -5.0654088   17.36338858  17.96361965  10.71483462\n",
            " -11.82277668 -12.22200566  15.19086044 -14.32336308   3.36549909\n",
            "  -4.86993271  -7.91955968   7.09528103  18.38276307  11.10534953\n",
            "  -0.55349628  -2.37153967  16.30656753   3.12428394  -0.13443908\n",
            "   7.31343478 -10.51384731 -17.4505805   14.20445762   4.29046803\n",
            " -13.40491595  -8.07808294  19.5973405    5.3769453    5.44448564\n",
            " -17.11345347  18.75966937  15.71131558   1.91129769  -7.62444334\n",
            "   7.92220914  13.33497578  11.44485639  19.08189488   5.47421595\n",
            "  -7.15098274  -0.08289548  12.65268672  -9.38629651 -10.7436698 ]\n",
            "Accuracy after rotation augmentation constrained by  40  is  0.6813\n",
            "shape of sample before is: (50, 28, 28)\n",
            "len(sample.shape) 3\n",
            "angle is: [0.72483458 0.44442743 0.8165704  0.14368359 0.33569646 0.26809991\n",
            " 0.69786815 0.75932921 0.4560027  0.47802938 0.13203188 0.70182809\n",
            " 0.99231763 0.77792184 0.22311232 0.62312274 0.29495681 0.03017655\n",
            " 0.17982286 0.10259357 0.19593255 0.79560442 0.29283213 0.75703995\n",
            " 0.94886255 0.57427312 0.48540894 0.75012718 0.09709014 0.42821209\n",
            " 0.49882459 0.83105131 0.81421766 0.84826536 0.69787293 0.53055581\n",
            " 0.82787932 0.87328242 0.48048459 0.98566191 0.87481812 0.51046967\n",
            " 0.0692876  0.22449205 0.77639858 0.11115426 0.46980007 0.60485219\n",
            " 0.87834683 0.84711386]\n",
            "angle with constraint is: [ 11.24172902  -2.77862867  15.82851976 -17.81582069  -8.21517684\n",
            " -11.59500467   9.8934074   12.96646067  -2.19986521  -1.09853118\n",
            " -18.39840586  10.09140469  24.61588168  13.89609204 -13.84438384\n",
            "   6.15613698 -10.25215947 -23.49117235 -16.00885722 -19.87032139\n",
            " -15.20337232  14.78022107 -10.3583933   12.85199755  22.44312774\n",
            "   3.71365575  -0.7295529   12.50635878 -20.14549301  -3.58939563\n",
            "  -0.05877025  16.55256552  15.71088301  17.41326799   9.89364639\n",
            "   1.52779036  16.39396607  18.66412076  -0.97577037  24.28309539\n",
            "  18.74090625   0.52348327 -21.53562023 -13.77539746  13.81992897\n",
            " -19.44228715  -1.50999668   5.24260961  18.91734142  17.35569314]\n",
            "shape of sample before is: (50, 28, 28)\n",
            "len(sample.shape) 3\n",
            "angle is: [0.76427792 0.40769424 0.14224925 0.66964931 0.18128862 0.56131448\n",
            " 0.98067818 0.55030978 0.64555687 0.67757547 0.83038836 0.43498068\n",
            " 0.4975099  0.17597201 0.61467989 0.29575801 0.50762475 0.76655719\n",
            " 0.0175699  0.56391553 0.17344502 0.27938334 0.03471328 0.16946276\n",
            " 0.98662939 0.99852276 0.71984792 0.61185685 0.77700695 0.89655427\n",
            " 0.51930506 0.035284   0.70939582 0.9846025  0.25805296 0.46346557\n",
            " 0.3612744  0.39046749 0.72139999 0.37840439 0.94108413 0.78965845\n",
            " 0.02764703 0.81854888 0.77285742 0.51649373 0.4968174  0.8355269\n",
            " 0.42478529 0.15946234]\n",
            "angle with constraint is: [ 13.21389605  -4.61528787 -17.88753728   8.48246548 -15.93556888\n",
            "   3.06572417  24.03390912   2.51548879   7.27784336   8.8787736\n",
            "  16.51941788  -3.25096609  -0.12450495 -16.2013993    5.73399439\n",
            " -10.21209968   0.38123744  13.32785968 -24.12150477   3.19577633\n",
            " -16.32774913 -11.03083301 -23.264336   -16.52686199  24.33146966\n",
            "  24.92613806  10.99239599   5.59284274  13.85034765  19.82771361\n",
            "   0.96525298 -23.23580003  10.46979103  24.2301251  -12.0973522\n",
            "  -1.82672173  -6.93627995  -5.47662529  11.06999969  -6.07978051\n",
            "  22.05420627  14.48292269 -23.61764875  15.9274441   13.64287112\n",
            "   0.82468642  -0.15913016  16.77634517  -3.76073554 -17.02688284]\n",
            "shape of sample before is: (50, 28, 28)\n",
            "len(sample.shape) 3\n",
            "angle is: [0.31289883 0.2652024  0.68105903 0.17887335 0.64477244 0.46596695\n",
            " 0.83966093 0.48499874 0.92980393 0.90046913 0.18528758 0.68616635\n",
            " 0.21462475 0.82330431 0.63572315 0.29411769 0.24912363 0.42957766\n",
            " 0.80072297 0.79616161 0.03337623 0.30228722 0.42285096 0.58558201\n",
            " 0.14952701 0.33528302 0.88559702 0.47654751 0.74414323 0.48477851\n",
            " 0.46498258 0.62192553 0.25936451 0.2498021  0.98935385 0.86899201\n",
            " 0.7377549  0.13714454 0.03022471 0.1754125  0.93773096 0.81628977\n",
            " 0.52307601 0.96878059 0.1465821  0.55915044 0.18322213 0.3064286\n",
            " 0.94013502 0.86827852]\n",
            "angle with constraint is: [ -9.35505836 -11.73987983   9.05295148 -16.0563325    7.23862182\n",
            "  -1.70165264  16.98304647  -0.75006284  21.49019673  20.02345639\n",
            " -15.73562104   9.30831762 -14.26876254  16.16521531   6.78615773\n",
            " -10.29411529 -12.54381858  -3.52111725  15.03614857  14.80808045\n",
            " -23.33118872  -9.88563923  -3.85745183   4.27910067 -17.52364956\n",
            "  -8.23584897  19.27985103  -1.17262433  12.2071613   -0.76107468\n",
            "  -1.75087118   6.09627625 -12.03177439 -12.50989503  24.46769274\n",
            "  18.44960047  11.88774482 -18.14277305 -23.48876444 -16.22937479\n",
            "  21.88654823  15.81448851   1.15380062  23.43902957 -17.67089485\n",
            "   2.957522   -15.83889368  -9.67856976  22.00675095  18.41392583]\n",
            "shape of sample before is: (50, 28, 28)\n",
            "len(sample.shape) 3\n",
            "angle is: [0.10179879 0.24954381 0.59450747 0.06135279 0.55008465 0.58449144\n",
            " 0.29096718 0.29312298 0.22907927 0.93567637 0.38887114 0.58526906\n",
            " 0.30157457 0.702664   0.10144127 0.07164154 0.74428376 0.72666796\n",
            " 0.26500134 0.35504671 0.9572605  0.10433029 0.18314707 0.43003836\n",
            " 0.28209891 0.64900855 0.69060172 0.52638808 0.6111973  0.43342083\n",
            " 0.76038725 0.0420985  0.31289134 0.68443004 0.32964511 0.07853528\n",
            " 0.34501343 0.71149477 0.12198487 0.72463136 0.77545572 0.63530074\n",
            " 0.24423405 0.80529536 0.2144425  0.90582095 0.7066457  0.05471993\n",
            " 0.79928712 0.50643354]\n",
            "angle with constraint is: [-19.91006072 -12.52280972   4.72537348 -21.93236063   2.50423237\n",
            "   4.22457179 -10.45164093 -10.34385099 -13.54603656  21.78381851\n",
            "  -5.55644297   4.26345316  -9.92127129  10.13320022 -19.92793645\n",
            " -21.41792285  12.21418803  11.33339792 -11.74993319  -7.24766436\n",
            "  22.86302507 -19.78348525 -15.84264667  -3.49808175 -10.8950547\n",
            "   7.45042743   9.53008615   1.31940419   5.55986507  -3.3289584\n",
            "  13.01936269 -22.89507511  -9.35543317   9.22150207  -8.51774461\n",
            " -21.07323598  -7.74932858  10.57473859 -18.90075674  11.23156821\n",
            "  13.77278582   6.76503722 -12.78829757  15.26476786 -14.27787491\n",
            "  20.29104761  10.33228496 -22.26400367  14.96435593   0.32167702]\n",
            "shape of sample before is: (50, 28, 28)\n",
            "len(sample.shape) 3\n",
            "angle is: [0.4526489  0.42051119 0.60663007 0.7245785  0.89597662 0.27294481\n",
            " 0.63077627 0.68634261 0.67479714 0.49300065 0.39102255 0.76237882\n",
            " 0.3000098  0.20805316 0.54582919 0.26761086 0.03323316 0.05157574\n",
            " 0.69501053 0.97314585 0.45468838 0.14706113 0.81808321 0.2614359\n",
            " 0.99562646 0.56326417 0.23263255 0.49600477 0.33538127 0.77947198\n",
            " 0.10581589 0.85700272 0.76733689 0.8613638  0.89499375 0.22977782\n",
            " 0.52100581 0.84992222 0.37738797 0.06040758 0.29163436 0.24192031\n",
            " 0.87006262 0.46384635 0.68354424 0.96211915 0.29918785 0.76119956\n",
            " 0.02276412 0.10411618]\n",
            "angle with constraint is: [ -2.36755518  -3.97444037   5.33150332  11.22892504  19.79883079\n",
            " -11.35275935   6.53881365   9.31713057   8.73985699  -0.34996761\n",
            "  -5.44887259  13.11894085  -9.9995098  -14.59734188   2.29145969\n",
            " -11.61945712 -23.33834186 -22.42121283   9.75052632  23.6572923\n",
            "  -2.26558082 -17.64694372  15.90416053 -11.92820515  24.78132308\n",
            "   3.16320829 -13.36837257  -0.19976152  -8.23093641  13.97359923\n",
            " -19.70920571  17.85013585  13.36684471  18.0681902   19.7496873\n",
            " -13.51110885   1.05029036  17.49611101  -6.13060139 -21.97962116\n",
            " -10.41828217 -12.90398443  18.50313093  -1.80768253   9.17721187\n",
            "  23.10595748 -10.04060738  13.05997788 -23.86179392 -19.79419123]\n",
            "Accuracy after rotation augmentation constrained by  50  is  0.6786\n",
            "shape of sample before is: (50, 28, 28)\n",
            "len(sample.shape) 3\n",
            "angle is: [0.16186509 0.31241834 0.40298722 0.47701589 0.24533135 0.06621532\n",
            " 0.67752309 0.02366135 0.80947063 0.92915483 0.71036891 0.59596052\n",
            " 0.65701853 0.65222205 0.93170514 0.96430587 0.42671164 0.61707918\n",
            " 0.80280705 0.00103816 0.52701592 0.65287634 0.71720545 0.36878941\n",
            " 0.29564442 0.18214257 0.55781555 0.91930343 0.89597815 0.35996593\n",
            " 0.25785514 0.78879382 0.72498002 0.50533983 0.38903026 0.1237979\n",
            " 0.78513859 0.61746444 0.37688168 0.91878798 0.65967271 0.92923887\n",
            " 0.47441246 0.45461782 0.93723929 0.95979143 0.96076732 0.81889739\n",
            " 0.46240614 0.21029929]\n",
            "angle with constraint is: [-20.2880946  -11.25489979  -5.82076709  -1.37904656 -15.28011922\n",
            " -26.02708082  10.65138551 -28.58031879  18.56823809  25.74928951\n",
            "  12.62213482   5.75763104   9.42111176   9.1333228   25.90230816\n",
            "  27.85835227  -4.39730149   7.02475057  18.16842322 -29.93771057\n",
            "   1.62095501   9.17258039  13.03232698  -7.87263544 -12.26133476\n",
            " -19.07144601   3.46893294  25.15820594  23.75868904  -8.40204437\n",
            " -14.5286916   17.32762936  13.49880109   0.32038987  -6.65818443\n",
            " -22.57212578  17.10831535   7.04786661  -7.38709922  25.12727856\n",
            "   9.58036238  25.75433201  -1.53525238  -2.72293056  26.23435742\n",
            "  27.58748569  27.64603913  19.13384363  -2.25563131 -17.38204234]\n",
            "shape of sample before is: (50, 28, 28)\n",
            "len(sample.shape) 3\n",
            "angle is: [0.38344088 0.93829749 0.3635543  0.75671743 0.92300435 0.97039216\n",
            " 0.94767415 0.5550576  0.49188007 0.98764051 0.2181792  0.18753026\n",
            " 0.9631823  0.68919482 0.53630401 0.13204979 0.51324025 0.94422115\n",
            " 0.60289132 0.40462862 0.551103   0.88614509 0.91284866 0.40008817\n",
            " 0.608061   0.27920261 0.4510853  0.21988264 0.53147226 0.57824013\n",
            " 0.33783674 0.2721183  0.15102561 0.13954367 0.71146112 0.221638\n",
            " 0.11797702 0.99887169 0.2599165  0.89604832 0.60918595 0.71507017\n",
            " 0.56091891 0.1808112  0.84705157 0.82797277 0.34968547 0.7638507\n",
            " 0.54304026 0.90904914]\n",
            "angle with constraint is: [ -6.99354712  26.29784949  -8.1867423   15.40304561  25.38026107\n",
            "  28.22352977  26.86044881   3.30345586  -0.48719552  29.25843053\n",
            " -16.90924773 -18.7481843   27.79093786  11.35168931   2.17824059\n",
            " -22.07701243   0.79441494  26.65326921   6.1734794   -5.72228265\n",
            "   3.06618009  23.16870522  24.77091967  -5.99471006   6.48366015\n",
            " -13.24784324  -2.93488223 -16.80704179   1.88833571   4.6944081\n",
            "  -9.72979583 -13.67290196 -20.9384636  -21.62738003  12.68766694\n",
            " -16.70171979 -22.92137873  29.93230139 -14.40500989  23.76289893\n",
            "   6.55115723  12.90421001   3.65513469 -19.1513283   20.82309429\n",
            "  19.67836599  -9.01887208  15.83104178   2.5824155   24.54294843]\n",
            "shape of sample before is: (50, 28, 28)\n",
            "len(sample.shape) 3\n",
            "angle is: [0.80282437 0.04099577 0.87927597 0.96856642 0.7421562  0.11991353\n",
            " 0.80737589 0.64748904 0.33882632 0.88403055 0.56556669 0.85292793\n",
            " 0.67011375 0.2885161  0.9750187  0.57100555 0.51675524 0.40350963\n",
            " 0.1363442  0.68621288 0.4307992  0.93461251 0.96509717 0.76764086\n",
            " 0.24249476 0.71597968 0.02042175 0.8264005  0.49361857 0.93673965\n",
            " 0.37776004 0.2631736  0.99505634 0.53067787 0.86318254 0.91105716\n",
            " 0.51846871 0.45571393 0.55288595 0.8477395  0.96466023 0.32832211\n",
            " 0.73863038 0.28537448 0.61095304 0.80478959 0.88648632 0.44871618\n",
            " 0.36975568 0.25345161]\n",
            "angle with constraint is: [ 18.16946228 -27.54025381  22.75655833  28.11398508  14.52937216\n",
            " -22.80518815  18.44255339   8.84934256  -9.67042095  23.04183307\n",
            "   3.93400131  21.17567586  10.20682492 -12.68903378  28.50112175\n",
            "   4.26033288   1.00531451  -5.7894223  -21.81934782  11.1727728\n",
            "  -4.15204812  26.07675062  27.90583012  16.05845132 -15.45031418\n",
            "  12.95878085 -28.77469494  19.58403017  -0.38288597  26.20437899\n",
            "  -7.33439752 -14.20958373  29.70338033   1.84067229  21.79095254\n",
            "  24.66342984   1.10812277  -2.65716447   3.17315729  20.86437017\n",
            "  27.8796139  -10.30067344  14.31782293 -12.87753136   6.65718248\n",
            "  18.28737529  23.18917948  -3.07702894  -7.81465905 -14.79290328]\n",
            "shape of sample before is: (50, 28, 28)\n",
            "len(sample.shape) 3\n",
            "angle is: [0.13341717 0.36491757 0.8719778  0.41880952 0.31729317 0.73913224\n",
            " 0.21558447 0.2562868  0.93590865 0.08158969 0.41463118 0.57675119\n",
            " 0.23026072 0.28101248 0.22184536 0.34518557 0.89850576 0.43158735\n",
            " 0.41782902 0.38658088 0.96411573 0.11729944 0.87187542 0.32716107\n",
            " 0.95651159 0.31522725 0.08287436 0.52004188 0.22786558 0.75298982\n",
            " 0.65730562 0.68646916 0.19348949 0.70863026 0.31133103 0.99867403\n",
            " 0.73176766 0.59041151 0.86711778 0.5893117  0.55274987 0.2373156\n",
            " 0.678112   0.37464443 0.04308263 0.8160618  0.05187317 0.67230012\n",
            " 0.15672089 0.43256952]\n",
            "angle with constraint is: [-21.99496977  -8.10494588  22.31866828  -4.87142903 -10.96241005\n",
            "  14.34793468 -17.0649317  -14.62279185  26.1545189  -25.10461844\n",
            "  -5.12212919   4.60507154 -16.18435706 -13.13925095 -16.68927812\n",
            "  -9.28886568  23.9103453   -4.10475921  -4.93025901  -6.80514719\n",
            "  27.84694362 -22.96203383  22.31252526 -10.37033594  27.3906955\n",
            " -11.08636523 -25.0275382    1.20251306 -16.32806524  15.17938893\n",
            "   9.4383371   11.18814948 -18.39063068  12.51781589 -11.32013838\n",
            "  29.92044168  13.90605978   5.42469044  22.02706675   5.35870198\n",
            "   3.16499201 -15.76106383  10.68671972  -7.52133431 -27.41504233\n",
            "  18.96370778 -26.88761     10.33800737 -20.59674651  -4.04582901]\n",
            "shape of sample before is: (50, 28, 28)\n",
            "len(sample.shape) 3\n",
            "angle is: [0.85909166 0.09441955 0.66715068 0.61261874 0.86752975 0.17273487\n",
            " 0.7997875  0.4501212  0.42864391 0.36178435 0.38557415 0.51995963\n",
            " 0.10679982 0.42506587 0.65198122 0.49819235 0.16582947 0.3630517\n",
            " 0.44296167 0.66887481 0.90076632 0.55037551 0.67636813 0.07718963\n",
            " 0.95446703 0.31520869 0.35429175 0.22284278 0.08467007 0.79004679\n",
            " 0.24049008 0.28268774 0.18179628 0.97488528 0.7810348  0.92989965\n",
            " 0.86172337 0.9062968  0.47903405 0.17054144 0.32688033 0.29245152\n",
            " 0.71713384 0.02567269 0.14204221 0.68288512 0.12344235 0.04829185\n",
            " 0.10921516 0.69067415]\n",
            "angle with constraint is: [ 21.54549951 -24.33482705  10.02904071   6.75712455  22.05178478\n",
            " -19.63590772  17.98725028  -2.9927282   -4.28136525  -8.29293895\n",
            "  -6.86555123   1.19757759 -23.59201062  -4.49604781   9.1188729\n",
            "  -0.10845879 -20.05023187  -8.21689789  -3.42229953  10.13248888\n",
            "  24.04597935   3.02253076  10.58208769 -25.36862247  27.26802176\n",
            " -11.08747858  -8.74249502 -16.62943316 -24.91979569  17.40280741\n",
            " -15.5705951  -13.03873588 -19.0922234   28.49311682  16.86208784\n",
            "  25.793979    21.70340202  24.37780797  -1.25795689 -19.76751376\n",
            " -10.38717994 -12.45290898  13.02803026 -28.45963882 -21.4774671\n",
            "  10.97310722 -22.59345877 -27.10248895 -23.44709012  11.44044918]\n",
            "Accuracy after rotation augmentation constrained by  60  is  0.6708\n",
            "shape of sample before is: (50, 28, 28)\n",
            "len(sample.shape) 3\n",
            "angle is: [0.13932526 0.14630436 0.2303002  0.7509107  0.20035291 0.0353754\n",
            " 0.90586336 0.87631842 0.184819   0.26534259 0.18855757 0.71953454\n",
            " 0.25000888 0.93144976 0.82764102 0.58840113 0.00893822 0.88366941\n",
            " 0.72776165 0.7879074  0.0718252  0.70856017 0.80458947 0.95663536\n",
            " 0.58047047 0.50804185 0.42539679 0.70128768 0.9208213  0.59975505\n",
            " 0.22728364 0.01757395 0.61911312 0.86459789 0.06597528 0.39757121\n",
            " 0.94004693 0.501677   0.22065823 0.35365641 0.40813957 0.11728951\n",
            " 0.66079224 0.59216433 0.64772288 0.61079157 0.01667207 0.17446285\n",
            " 0.165572   0.09795149]\n",
            "angle with constraint is: [-25.24723184 -24.75869472 -18.87898623  17.56374929 -20.97529614\n",
            " -32.52372223  28.41043489  26.3422897  -22.06266994 -16.42601872\n",
            " -21.80097     15.36741773 -17.49937811  30.20148302  22.93487171\n",
            "   6.18807893 -34.37432427  26.85685845  15.94331526  20.15351776\n",
            " -29.97223568  14.59921192  21.32126315  31.96447493   5.63293309\n",
            "   0.56292964  -5.2222247   14.09013767  29.45749133   6.98285341\n",
            " -19.09014509 -33.76982348   8.33791828  25.52185216 -30.38173057\n",
            "  -7.17001537  30.80328483   0.11738971 -19.55392391 -10.24405118\n",
            "  -6.43023037 -26.78973399  11.25545707   6.45150304  10.34060145\n",
            "   7.75540981 -33.83295522 -22.78760053 -23.40995986 -28.14339596]\n",
            "shape of sample before is: (50, 28, 28)\n",
            "len(sample.shape) 3\n",
            "angle is: [0.73547577 0.12013721 0.66819407 0.17839031 0.11831018 0.16253005\n",
            " 0.50840346 0.64548251 0.81192486 0.12856221 0.61618675 0.7738396\n",
            " 0.31240517 0.07971558 0.15594596 0.09155865 0.88721193 0.37670167\n",
            " 0.52334861 0.76868815 0.37149842 0.64910265 0.07667985 0.48090565\n",
            " 0.09651897 0.24828414 0.29334083 0.7175838  0.67410419 0.74708009\n",
            " 0.06175505 0.99391421 0.05442003 0.82574779 0.74026893 0.59176179\n",
            " 0.43885717 0.75713235 0.7398578  0.13717834 0.79263247 0.078557\n",
            " 0.50054614 0.64508183 0.82168886 0.46311022 0.23685808 0.49065962\n",
            " 0.25020811 0.52872538]\n",
            "angle with constraint is: [ 16.48330412 -26.59039499  11.77358514 -22.51267832 -26.71828752\n",
            " -23.6228966    0.58824196  10.18377569  21.8347402  -26.00064562\n",
            "   8.13307232  19.16877196 -13.13163799 -29.41990944 -24.08378259\n",
            " -28.59089467  27.10483517  -8.63088321   1.63440236  18.80817063\n",
            "  -8.99511045  10.43718582 -29.63241027  -1.33660467 -28.24367237\n",
            " -17.62011015 -14.46614207  15.23086627  12.18729304  17.29560623\n",
            " -30.67714669  34.57399485 -31.19059799  22.8023454   16.81882534\n",
            "   6.42332533  -4.27999844  17.99926473  16.79004623 -25.39751652\n",
            "  20.48427311 -29.50101018   0.03822995  10.15572786  22.51822002\n",
            "  -2.58228473 -18.41993457  -0.65382692 -17.48543227   2.0107767 ]\n",
            "shape of sample before is: (50, 28, 28)\n",
            "len(sample.shape) 3\n",
            "angle is: [0.46250818 0.78050448 0.24009011 0.19998518 0.47418534 0.05050437\n",
            " 0.22934063 0.35370491 0.48762971 0.26943671 0.56063649 0.87841467\n",
            " 0.54372746 0.28683952 0.06198097 0.1366663  0.56121737 0.68370884\n",
            " 0.04966794 0.18554983 0.31908127 0.31977311 0.95840701 0.2037706\n",
            " 0.06252035 0.35301483 0.13444197 0.12658197 0.40745066 0.30639114\n",
            " 0.09172678 0.60430343 0.50169977 0.07709967 0.86274447 0.28471306\n",
            " 0.96138078 0.93153863 0.43409663 0.22856694 0.83485271 0.36128584\n",
            " 0.16355069 0.55160772 0.48940244 0.85001788 0.72928138 0.87613949\n",
            " 0.73470291 0.64217496]\n",
            "angle with constraint is: [ -2.62442718  19.63531386 -18.19369206 -21.00103711  -1.80702623\n",
            " -31.46469444 -18.94615601 -10.24065601  -0.86592012 -16.13943021\n",
            "   4.24455463  26.48902665   3.0609223  -14.92123348 -30.66133196\n",
            " -25.43335867   4.2852158   12.85961867 -31.52324395 -22.01151192\n",
            " -12.66431105 -12.61588238  32.08849099 -20.73605814 -30.62357554\n",
            " -10.28896195 -25.58906203 -26.13926244  -6.47845372 -13.55262025\n",
            " -28.57912567   7.30124006   0.11898362 -29.60302317  25.39211318\n",
            " -15.07008593  32.29665495  30.20770428  -4.61323616 -19.00031417\n",
            "  23.43968988  -9.70999109 -23.55145137   3.61254011  -0.74182901\n",
            "  24.50125152  16.04969659  26.32976408  16.42920387   9.95224725]\n",
            "shape of sample before is: (50, 28, 28)\n",
            "len(sample.shape) 3\n",
            "angle is: [0.50017715 0.98755329 0.95916482 0.84885298 0.77531921 0.57755955\n",
            " 0.25975336 0.87543903 0.01081613 0.22743997 0.40373245 0.58615716\n",
            " 0.56087932 0.17581583 0.1047982  0.22232893 0.34870879 0.01405369\n",
            " 0.69245582 0.24772744 0.35140444 0.33490169 0.5118298  0.85979972\n",
            " 0.14938995 0.34072711 0.69202881 0.04423141 0.82997864 0.96182514\n",
            " 0.6076372  0.95650837 0.41306183 0.41503173 0.10624891 0.03544693\n",
            " 0.24450432 0.47812866 0.50768239 0.21757538 0.61280567 0.18120587\n",
            " 0.32621114 0.19570952 0.6966636  0.51657251 0.7361011  0.05724817\n",
            " 0.42536208 0.96695858]\n",
            "angle with constraint is: [ 1.24006594e-02  3.41287303e+01  3.21415377e+01  2.44197087e+01\n",
            "  1.92723450e+01  5.42916851e+00 -1.68172648e+01  2.62807319e+01\n",
            " -3.42428706e+01 -1.90792023e+01 -6.73872884e+00  6.03100087e+00\n",
            "  4.26155243e+00 -2.26928922e+01 -2.76641260e+01 -1.94369751e+01\n",
            " -1.05903848e+01 -3.40162418e+01  1.34719074e+01 -1.76590795e+01\n",
            " -1.04016894e+01 -1.15568817e+01  8.28086061e-01  2.51859805e+01\n",
            " -2.45427033e+01 -1.11491021e+01  1.34420165e+01 -3.19038011e+01\n",
            "  2.30985045e+01  3.23277598e+01  7.53460418e+00  3.19555860e+01\n",
            " -6.08567194e+00 -5.94777885e+00 -2.75625763e+01 -3.25187146e+01\n",
            " -1.78846977e+01 -1.53099400e+00  5.37767360e-01 -1.97697233e+01\n",
            "  7.89639723e+00 -2.23155888e+01 -1.21652202e+01 -2.13003339e+01\n",
            "  1.37664520e+01  1.16007558e+00  1.65270769e+01 -3.09926281e+01\n",
            " -5.22465438e+00  3.26871005e+01]\n",
            "shape of sample before is: (50, 28, 28)\n",
            "len(sample.shape) 3\n",
            "angle is: [0.05361951 0.41837869 0.04039822 0.14665332 0.46252645 0.1575134\n",
            " 0.51875542 0.92273168 0.20040756 0.10718651 0.82527656 0.46026985\n",
            " 0.8826111  0.30612329 0.62753201 0.92331355 0.1716958  0.80072856\n",
            " 0.63151675 0.81294674 0.17069334 0.43408647 0.12883723 0.96008211\n",
            " 0.06269172 0.0654834  0.89815619 0.30076215 0.59702003 0.28747553\n",
            " 0.64875838 0.19246937 0.45886946 0.53349217 0.33364289 0.25170061\n",
            " 0.14020667 0.70614434 0.16828272 0.29212639 0.33690876 0.4543668\n",
            " 0.7025687  0.42794513 0.87109362 0.67978565 0.83848672 0.71635396\n",
            " 0.1486318  0.9779273 ]\n",
            "angle with constraint is: [-31.24663397  -5.71349172 -32.17212468 -24.73426753  -2.62314839\n",
            " -23.97406216   1.31287975  29.59121779 -20.97147093 -27.49694432\n",
            "  22.76935934  -2.78111068  26.78277692 -13.57136937   8.92724036\n",
            "  29.6319488  -22.98129404  21.05099915   9.20617249  21.90627212\n",
            " -23.05146585  -4.61394708 -25.98139401  32.20574756 -30.61157939\n",
            " -30.41616214  27.87093345 -13.94664963   6.7914023  -14.87671298\n",
            "  10.41308629 -21.52714415  -2.87913794   2.34445223 -11.64499768\n",
            " -17.38095721 -25.18553326  14.43010354 -23.22020988 -14.55115262\n",
            " -11.41638648  -3.19432421  14.17980897  -5.04384057  25.9765535\n",
            "  12.58499526  23.69407013  15.14477729 -24.59577401  33.45491113]\n",
            "Accuracy after rotation augmentation constrained by  70  is  0.657\n",
            "shape of sample before is: (50, 28, 28)\n",
            "len(sample.shape) 3\n",
            "angle is: [0.78658627 0.57272177 0.16523094 0.17268065 0.61433117 0.41619713\n",
            " 0.6758595  0.37242772 0.51284517 0.18795804 0.15520114 0.07564476\n",
            " 0.8196393  0.55538625 0.94714104 0.74948628 0.76876316 0.50905843\n",
            " 0.81545394 0.94206345 0.72174025 0.10558894 0.65101986 0.12043321\n",
            " 0.07722242 0.69290041 0.83478543 0.15884149 0.07414861 0.88652289\n",
            " 0.13220934 0.03508609 0.72105437 0.84771555 0.51447334 0.53992524\n",
            " 0.33686051 0.2384632  0.75523207 0.84928441 0.32124476 0.27381918\n",
            " 0.26779172 0.05059542 0.28107502 0.02565092 0.78840762 0.25592683\n",
            " 0.69015519 0.54318839]\n",
            "angle with constraint is: [ 22.92690126   5.81774149 -26.78152474 -26.18554811   9.14649399\n",
            "  -6.70422936  14.06876004 -10.20578201   1.02761372 -24.96335696\n",
            " -27.58390846 -33.9484189   25.57114439   4.43090013  35.77128319\n",
            "  19.95890251  21.50105282   0.72467474  25.23631492  35.36507563\n",
            "  17.73922019 -31.55288473  12.08158874 -30.36534302 -33.82220621\n",
            "  15.43203241  26.78283455 -27.29268074 -34.06811136  30.92183154\n",
            " -29.42325304 -37.1931125   17.6843495   27.81724433   1.15786732\n",
            "   3.19401953 -13.05115898 -20.92294409  20.41856561  27.94275265\n",
            " -14.30041935 -18.09446521 -18.57666244 -35.95236656 -17.51399801\n",
            " -37.94792664  23.0726098  -19.52585368  15.21241515   3.45507084]\n",
            "shape of sample before is: (50, 28, 28)\n",
            "len(sample.shape) 3\n",
            "angle is: [0.83746363 0.96037873 0.36729161 0.08834082 0.74964576 0.02130233\n",
            " 0.22296333 0.05325067 0.89814837 0.00529708 0.49274217 0.42399913\n",
            " 0.65274466 0.28974409 0.8736954  0.73434574 0.43229443 0.35802625\n",
            " 0.81588825 0.7570603  0.39900006 0.34137186 0.03888799 0.08170725\n",
            " 0.05391846 0.02441549 0.15287238 0.85714182 0.79815931 0.84557385\n",
            " 0.62380036 0.6240631  0.12393175 0.69896535 0.28002641 0.51925333\n",
            " 0.9547226  0.87061539 0.23319351 0.73665062 0.10409075 0.02674249\n",
            " 0.02817427 0.17024648 0.6949484  0.36330589 0.01594244 0.98802263\n",
            " 0.5333784  0.39388022]\n",
            "angle with constraint is: [ 26.9970904   36.8302982  -10.61667087 -32.93273441  19.97166115\n",
            " -38.2958139  -22.16293324 -35.73994652  31.85186973 -39.57623346\n",
            "  -0.5806268   -6.08006983  12.21957316 -16.82047291  29.89563204\n",
            "  18.74765933  -5.41644592 -11.35790004  25.2710598   20.56482388\n",
            "  -8.07999536 -12.69025099 -36.88896083 -33.46342036 -35.68652356\n",
            " -38.04676109 -27.77020943  28.57134541  23.85274486  27.64590783\n",
            "   9.90402891   9.9250481  -30.08546028  15.91722829 -17.59788713\n",
            "   1.54026638  36.3778083   29.64923155 -21.34451942  18.93204926\n",
            " -31.67274    -37.86060114 -37.74605802 -26.38028126  15.59587217\n",
            " -10.93552852 -38.72460488  39.04181051   2.67027226  -8.48958279]\n",
            "shape of sample before is: (50, 28, 28)\n",
            "len(sample.shape) 3\n",
            "angle is: [0.5188499  0.51997091 0.47023658 0.6129489  0.88562662 0.30171369\n",
            " 0.48696862 0.003644   0.85981428 0.30590389 0.2712969  0.99753717\n",
            " 0.58439294 0.12304325 0.26552497 0.35322659 0.98606005 0.43062168\n",
            " 0.23013399 0.56973097 0.40475966 0.05496039 0.86091961 0.01568753\n",
            " 0.89848364 0.7918587  0.07582321 0.72361108 0.77094168 0.60230707\n",
            " 0.5776708  0.04968703 0.05949637 0.72728865 0.10556518 0.2418441\n",
            " 0.49883659 0.16416367 0.78983956 0.80737802 0.84214321 0.04956812\n",
            " 0.42787316 0.84691767 0.36321939 0.69582038 0.5892459  0.34720862\n",
            " 0.27640483 0.65274309]\n",
            "angle with constraint is: [  1.5079916    1.59767279  -2.38107383   9.03591236  30.85012959\n",
            " -15.86290463  -1.04251017 -39.7084803   28.78514251 -15.52768889\n",
            " -18.29624813  39.80297354   6.7514351  -30.15654031 -18.75800241\n",
            " -11.74187294  38.88480383  -5.55026577 -21.58928094   5.57847739\n",
            "  -7.61922736 -35.60316895  28.873569   -38.74499782  31.87869086\n",
            "  23.34869629 -33.93414319  17.88888623  21.67533457   8.18456587\n",
            "   6.21366401 -36.0250379  -35.24029025  18.18309199 -31.55478569\n",
            " -20.65247194  -0.09307249 -26.86690611  23.18716484  24.5902419\n",
            "  27.3714569  -36.03455034  -5.7701471   27.75341382 -10.94244878\n",
            "  15.66563027   7.13967234 -12.22331066 -17.88761367  12.21944737]\n",
            "shape of sample before is: (50, 28, 28)\n",
            "len(sample.shape) 3\n",
            "angle is: [0.13362414 0.86012252 0.57644344 0.11150351 0.70352765 0.43111255\n",
            " 0.20408142 0.96106929 0.71964779 0.59299362 0.84886718 0.54386979\n",
            " 0.44147061 0.18944686 0.15339043 0.43196932 0.45597458 0.73331251\n",
            " 0.44208501 0.5931592  0.83251852 0.9933347  0.32252532 0.90195446\n",
            " 0.80605087 0.06800669 0.33415893 0.21904296 0.66438427 0.55529914\n",
            " 0.49485105 0.76356376 0.3333087  0.3827523  0.86563395 0.97220851\n",
            " 0.77635734 0.21707097 0.11265163 0.20920515 0.42276137 0.23669703\n",
            " 0.90104115 0.6707229  0.41672924 0.27381173 0.38066101 0.4760506\n",
            " 0.71382235 0.08934156]\n",
            "angle with constraint is: [-29.31006904  28.80980153   6.11547529 -31.07971959  16.28221162\n",
            "  -5.51099601 -23.67348677  36.88554343  17.5718228    7.43948987\n",
            "  27.90937448   3.50958319  -4.68235101 -24.84425121 -27.72876599\n",
            "  -5.44245469  -3.52203368  18.66500042  -4.6331992    7.45273605\n",
            "  26.60148193  39.46677564 -14.19797479  32.1563571   24.48406975\n",
            " -34.55946477 -13.26728553 -22.47656321  13.15074179   4.4239309\n",
            "  -0.41191579  21.0851011  -13.33530434  -9.37981636  29.25071586\n",
            "  37.77668074  22.10858726 -22.63432202 -30.98786943 -23.26358818\n",
            "  -6.1790908  -21.06423778  32.08329185  13.65783214  -6.66166042\n",
            " -18.09506137  -9.54711959  -1.91595237  17.10578817 -32.85267534]\n",
            "shape of sample before is: (50, 28, 28)\n",
            "len(sample.shape) 3\n",
            "angle is: [0.84883294 0.12756003 0.26245008 0.9935899  0.19020863 0.10114219\n",
            " 0.6384053  0.39312908 0.09183543 0.00374243 0.07916158 0.52273558\n",
            " 0.23089295 0.77755213 0.85750863 0.14483302 0.33701987 0.14657413\n",
            " 0.2866927  0.23920442 0.7868649  0.34547968 0.4955648  0.67389511\n",
            " 0.82225665 0.30120909 0.20922067 0.97845337 0.32014754 0.6710681\n",
            " 0.67784104 0.51402945 0.22844745 0.14145742 0.48701614 0.51092954\n",
            " 0.77336676 0.70983344 0.91204128 0.97086056 0.72785133 0.07651125\n",
            " 0.40511831 0.60880237 0.59019507 0.18144379 0.58294473 0.34968051\n",
            " 0.33892684 0.83400701]\n",
            "angle with constraint is: [ 27.90663518 -29.79519751 -19.00399344  39.48719166 -24.78330928\n",
            " -31.90862498  11.07242415  -8.54967361 -32.65316526 -39.70060573\n",
            " -33.66707389   1.8188463  -21.52856439  22.20417075  28.60069065\n",
            " -28.41335858 -13.03841034 -28.27406996 -17.06458371 -20.8636465\n",
            "  22.94919207 -12.36162576  -0.3548161   13.91160844  25.78053193\n",
            " -15.90327277 -23.26234658  38.2762699  -14.38819643  13.68544793\n",
            "  14.22728325   1.12235565 -21.72420436 -28.68340632  -1.03870841\n",
            "   0.87436294  21.86934054  16.78667552  32.96330231  37.66884495\n",
            "  18.2281061  -33.87910009  -7.59053526   8.70418959   7.21560572\n",
            " -25.48449713   6.63557836 -12.02555937 -12.88585241  26.72056042]\n",
            "Accuracy after rotation augmentation constrained by  80  is  0.6483\n",
            "shape of sample before is: (50, 28, 28)\n",
            "len(sample.shape) 3\n",
            "angle is: [0.42193316 0.52739595 0.56287286 0.56299678 0.21312151 0.59945336\n",
            " 0.33462361 0.65502029 0.1456976  0.99411559 0.77204329 0.41725143\n",
            " 0.30135185 0.38780203 0.72120827 0.6554078  0.70209251 0.8889992\n",
            " 0.45629523 0.66952115 0.44150795 0.63809808 0.47482364 0.77666363\n",
            " 0.00526012 0.21571096 0.29643763 0.94539451 0.50704621 0.36435188\n",
            " 0.40431212 0.45182228 0.86783039 0.96233587 0.84416464 0.84165676\n",
            " 0.19901511 0.26867807 0.59604918 0.65613741 0.20270537 0.74628187\n",
            " 0.19996355 0.26301065 0.30679554 0.84599142 0.7320839  0.53068544\n",
            " 0.8197493  0.81292825]\n",
            "angle with constraint is: [ -7.02601572   2.46563587   5.65855749   5.66971019 -25.81906376\n",
            "   8.95080268 -14.8838752   13.95182651 -31.88721609  44.47040352\n",
            "  24.48389623  -7.44737099 -17.87833342 -10.09781687  19.90874455\n",
            "  13.98670196  18.18832608  35.00992759  -3.93342963  15.25690336\n",
            "  -5.26428405  12.42882703  -2.26587267  24.89972646 -44.5265889\n",
            " -25.58601398 -18.32061374  40.08550556   0.63415917 -12.2083308\n",
            "  -8.61190959  -4.33599449  33.10473511  41.61022791  30.97481758\n",
            "  30.74910871 -27.08864001 -20.81897354   8.64442625  14.05236721\n",
            " -26.75651639  22.16536855 -27.00328024 -21.32904181 -17.38840158\n",
            "  31.13922748  20.88755072   2.76168922  28.77743683  28.16354226]\n",
            "shape of sample before is: (50, 28, 28)\n",
            "len(sample.shape) 3\n",
            "angle is: [0.3898331  0.78143729 0.20624277 0.50322885 0.11824173 0.42679449\n",
            " 0.52036577 0.07991836 0.46261276 0.65167054 0.61408823 0.05435389\n",
            " 0.09533969 0.35135625 0.84268572 0.86975605 0.30961287 0.71889209\n",
            " 0.57739059 0.98342226 0.09464391 0.54788074 0.59253765 0.30766857\n",
            " 0.04695325 0.05210454 0.45361805 0.69247379 0.70017579 0.18096985\n",
            " 0.85797214 0.37716243 0.9643679  0.11815963 0.8364547  0.90833815\n",
            " 0.82267553 0.80884114 0.36131002 0.71334311 0.57934657 0.42447913\n",
            " 0.9931117  0.29045472 0.41314402 0.90286104 0.28900828 0.15268114\n",
            " 0.30999975 0.75931168]\n",
            "angle with constraint is: [ -9.91502136  25.32935587 -26.43815052   0.2905965  -34.35824427\n",
            "  -6.5884963    1.83291928 -37.80734779  -3.36485144  13.65034887\n",
            "  10.26794113 -40.10815009 -36.41942827 -13.37793786  30.84171506\n",
            "  33.27804479 -17.13484173  19.70028767   6.96515331  43.50800329\n",
            " -36.48204789   4.3092668    8.3283884  -17.30982861 -40.77420773\n",
            " -40.31059179  -4.17437512  17.32264105  18.01582072 -28.71271353\n",
            "  32.21749269 -11.05538166  41.79311118 -34.3656329   30.28092288\n",
            "  36.75043379  29.04079735  27.79570271 -12.48209861  19.2008796\n",
            "   7.14119094  -6.79687817  44.38005264 -18.85907537  -7.817038\n",
            "  36.25749336 -18.98925488 -31.25869721 -17.10002253  23.33805094]\n",
            "shape of sample before is: (50, 28, 28)\n",
            "len(sample.shape) 3\n",
            "angle is: [0.85985401 0.11444499 0.62171268 0.56728691 0.66879779 0.67105637\n",
            " 0.95946747 0.34652921 0.29976692 0.58122529 0.42941846 0.47375427\n",
            " 0.06927699 0.14824218 0.93537494 0.06829145 0.59014559 0.75457503\n",
            " 0.01186353 0.22274815 0.37707203 0.50681745 0.34159529 0.64899926\n",
            " 0.22639752 0.02548294 0.00157105 0.34551201 0.3616628  0.94860412\n",
            " 0.04478071 0.53006506 0.57781331 0.69927501 0.6387346  0.00813949\n",
            " 0.63185767 0.32238794 0.77286896 0.18836539 0.71620565 0.62549533\n",
            " 0.65229089 0.17594769 0.669174   0.73697841 0.48941026 0.34036568\n",
            " 0.16655485 0.28996053]\n",
            "angle with constraint is: [ 32.38686087 -34.69995111  10.9541413    6.0558215   15.1918007\n",
            "  15.3950734   41.35207232 -13.81237124 -18.02097704   7.31027572\n",
            "  -6.35233867  -2.36211549 -38.76507058 -31.65820407  39.18374429\n",
            " -38.85376935   8.11310334  22.91175261 -43.93228244 -24.95266669\n",
            " -11.06351722   0.61357024 -14.25642347  13.40993323 -24.62422345\n",
            " -42.70653572 -44.85860543 -13.90391892 -12.45034807  40.37437056\n",
            " -40.96973587   2.70585541   7.00319828  17.93475107  12.48611401\n",
            " -44.26744556  11.86719061 -15.98508543  24.55820652 -28.04711525\n",
            "  19.45850868  11.29458003  13.70617968 -29.16470816  15.22566012\n",
            "  21.32805678  -0.95307649 -14.36708853 -30.01006356 -18.90355274]\n",
            "shape of sample before is: (50, 28, 28)\n",
            "len(sample.shape) 3\n",
            "angle is: [0.76382836 0.40940072 0.70271324 0.74009132 0.67417022 0.67353842\n",
            " 0.6108082  0.51842198 0.19781669 0.84280339 0.96426417 0.46648407\n",
            " 0.93323876 0.99799454 0.48619591 0.72435537 0.64379034 0.23726482\n",
            " 0.04708944 0.45335531 0.787205   0.32513466 0.78443872 0.65480168\n",
            " 0.69554135 0.28574089 0.47004738 0.1817038  0.24658053 0.08985004\n",
            " 0.12677341 0.21051348 0.58023421 0.44121112 0.26693951 0.86111245\n",
            " 0.52514769 0.92310947 0.63496496 0.0157876  0.91347569 0.85746334\n",
            " 0.63527122 0.53477356 0.45292607 0.48217485 0.76922064 0.5131416\n",
            " 0.1760247  0.05817757]\n",
            "angle with constraint is: [ 23.74455262  -8.15393479  18.24419178  21.60821925  15.67532017\n",
            "  15.61845813   9.97273839   1.65797808 -27.19649818  30.85230482\n",
            "  41.78377552  -3.0164341   38.99148803  44.8195084   -1.24236787\n",
            "  20.19198364  12.94113044 -23.64616656 -40.76195006  -4.19802199\n",
            "  25.84844977 -15.73788036  25.59948491  13.93215138  17.59872166\n",
            " -19.28332005  -2.69573554 -28.646658   -22.80775247 -36.91349612\n",
            " -33.59039343 -26.05378686   7.22107902  -5.29099924 -20.97544387\n",
            "  32.50012022   2.26329222  38.07985263  12.1468466  -43.57911631\n",
            "  37.21281219  32.17170021  12.17441005   3.12962002  -4.2366534\n",
            "  -1.60426388  24.22985768   1.18274421 -29.15777712 -39.76401895]\n",
            "shape of sample before is: (50, 28, 28)\n",
            "len(sample.shape) 3\n",
            "angle is: [0.12618628 0.25144111 0.36773412 0.89241601 0.23908723 0.31959856\n",
            " 0.22301454 0.54574182 0.6170867  0.53212753 0.95185665 0.99537802\n",
            " 0.83739599 0.80529614 0.36605278 0.57978351 0.35147242 0.78435585\n",
            " 0.17183114 0.21667171 0.03869407 0.60893967 0.68853826 0.00336229\n",
            " 0.51078576 0.37687454 0.79238078 0.03889075 0.04856569 0.6202091\n",
            " 0.59163885 0.83109002 0.59226689 0.94937083 0.31438464 0.39792141\n",
            " 0.97767467 0.10752424 0.79590485 0.01156871 0.48651325 0.15340234\n",
            " 0.5988617  0.79816997 0.0330423  0.16377273 0.34261038 0.25579897\n",
            " 0.38321989 0.9518683 ]\n",
            "angle with constraint is: [-33.64323513 -22.3703002  -11.90392907  35.3174411  -23.4821491\n",
            " -16.23612978 -24.92869144   4.11676368  10.53780267   2.89147787\n",
            "  40.66709861  44.58402159  30.36563908  27.47665304 -12.05525009\n",
            "   7.18051555 -13.36748229  25.59202616 -29.53519748 -25.49954571\n",
            " -41.51753362   9.8045706   16.96844329 -44.69739424   0.97071876\n",
            " -11.08129154  26.31427036 -41.49983286 -40.62908801  10.81881889\n",
            "   8.24749691  29.79810207   8.30402002  40.44337457 -16.7053822\n",
            "  -9.18707342  42.99071999 -35.3228181   26.63143679 -43.95881568\n",
            "  -1.21380755 -31.19378964   8.89755334  26.83529727 -42.02619279\n",
            " -30.26045461 -14.1650657  -21.97809307 -10.51020992  40.66814698]\n",
            "Accuracy after rotation augmentation constrained by  90  is  0.6589\n"
          ]
        }
      ]
    },
    {
      "cell_type": "code",
      "source": [
        "'Accuracy after rotation augmentation constrained by  90  is  0.6467'"
      ],
      "metadata": {
        "id": "ZPOH1A3RnqDr",
        "outputId": "14ad7eed-70b7-4303-e600-076ca2d076a9",
        "colab": {
          "base_uri": "https://localhost:8080/",
          "height": 35
        }
      },
      "execution_count": null,
      "outputs": [
        {
          "output_type": "execute_result",
          "data": {
            "text/plain": [
              "'Accuracy after rotation augmentation constrained by  90  is  0.6467'"
            ],
            "application/vnd.google.colaboratory.intrinsic+json": {
              "type": "string"
            }
          },
          "metadata": {},
          "execution_count": 69
        }
      ]
    },
    {
      "cell_type": "markdown",
      "source": [
        "Let us see the best value for angle constraint: (Ideally this should be done on validation set, not test set)"
      ],
      "metadata": {
        "id": "8Le-7VJBoP8K"
      }
    },
    {
      "cell_type": "code",
      "source": [
        "fig = plt.figure()\n",
        "ax = fig.add_axes([0.1, 0.1, 0.8, 0.8]) # main axes\n",
        "# plot the variation of accuracy\n",
        "ax.plot(angleconstraints, accuracies)\n",
        "ax.set_xlabel('angle')\n",
        "ax.set_ylabel('accuracy')\n",
        "# plot the maximum accuracy\n",
        "maxind = np.argmax(accuracies)\n",
        "plt.scatter(angleconstraints[maxind], accuracies[maxind], c='red')"
      ],
      "metadata": {
        "colab": {
          "base_uri": "https://localhost:8080/",
          "height": 309
        },
        "id": "xG__xE-FoQOg",
        "outputId": "577c373b-ab79-4c04-c733-04d237492fd2"
      },
      "execution_count": null,
      "outputs": [
        {
          "output_type": "execute_result",
          "data": {
            "text/plain": [
              "<matplotlib.collections.PathCollection at 0x7f74d7076b10>"
            ]
          },
          "metadata": {},
          "execution_count": 70
        },
        {
          "output_type": "display_data",
          "data": {
            "text/plain": [
              "<Figure size 432x288 with 1 Axes>"
            ],
            "image/png": "[encoded data removed]"
          },
          "metadata": {
            "needs_background": "light"
          }
        }
      ]
    },
    {
      "cell_type": "markdown",
      "source": [
        "Let us do a grid search to find the best shear constraint."
      ],
      "metadata": {
        "id": "Vfy-LEb-qdUd"
      }
    },
    {
      "cell_type": "code",
      "source": [
        "shearconstraints = [0, 0.2,0.4,0.6,0.8,1.0,1.2,1.4,1.6,1.8,2.0] # the values we want to test\n",
        "accuracies = np.zeros(len(shearconstraints), dtype=np.float) # we will save the values here\n",
        "\n",
        "for ii in range(len(shearconstraints)):\n",
        "  # create the augmented dataset\n",
        "  augdata = train_X # we include the original images also in the augmented dataset\n",
        "  auglabel = train_y\n",
        "  for jj in range(naugmentations):\n",
        "    augdata = np.concatenate((augdata, augShear(train_X, shearconstraints[ii]))) # concatenate the augmented data to the set\n",
        "    auglabel = np.concatenate((auglabel, train_y))  # the labels don't change when we augment\n",
        "\n",
        "  # check the test accuracy\n",
        "  testpred = NN(augdata, auglabel, test_X)\n",
        "  accuracies[ii] = Accuracy(test_y, testpred)\n",
        "  print('Accuracy after shear augmentation constrained by ',shearconstraints[ii], ' is ', accuracies[ii], flush=True)"
      ],
      "metadata": {
        "colab": {
          "base_uri": "https://localhost:8080/"
        },
        "id": "22m9xPrBoSDi",
        "outputId": "4b546c31-acda-444d-fe21-1478abb49426"
      },
      "execution_count": null,
      "outputs": [
        {
          "output_type": "stream",
          "name": "stderr",
          "text": [
            "/usr/local/lib/python3.7/dist-packages/ipykernel_launcher.py:2: DeprecationWarning: `np.float` is a deprecated alias for the builtin `float`. To silence this warning, use `float` by itself. Doing this will not modify any behavior and is safe. If you specifically wanted the numpy scalar type, use `np.float64` here.\n",
            "Deprecated in NumPy 1.20; for more details and guidance: https://numpy.org/devdocs/release/1.20.0-notes.html#deprecations\n",
            "  \n"
          ]
        },
        {
          "output_type": "stream",
          "name": "stdout",
          "text": [
            "Accuracy after shear augmentation constrained by  0  is  0.6472\n",
            "Accuracy after shear augmentation constrained by  0.2  is  0.6198\n",
            "Accuracy after shear augmentation constrained by  0.4  is  0.6318\n",
            "Accuracy after shear augmentation constrained by  0.6  is  0.6421\n",
            "Accuracy after shear augmentation constrained by  0.8  is  0.6579\n",
            "Accuracy after shear augmentation constrained by  1.0  is  0.649\n",
            "Accuracy after shear augmentation constrained by  1.2  is  0.6488\n",
            "Accuracy after shear augmentation constrained by  1.4  is  0.6465\n",
            "Accuracy after shear augmentation constrained by  1.6  is  0.6186\n",
            "Accuracy after shear augmentation constrained by  1.8  is  0.6234\n",
            "Accuracy after shear augmentation constrained by  2.0  is  0.6141\n"
          ]
        }
      ]
    },
    {
      "cell_type": "code",
      "source": [
        "fig = plt.figure()\n",
        "ax = fig.add_axes([0.1, 0.1, 0.8, 0.8]) # main axes\n",
        "# plot the variation of accuracy\n",
        "ax.plot(shearconstraints, accuracies)\n",
        "ax.set_xlabel('angle')\n",
        "ax.set_ylabel('accuracy')\n",
        "# plot the maximum accuracy\n",
        "maxind = np.argmax(accuracies)\n",
        "plt.scatter(shearconstraints[maxind], accuracies[maxind], c='red')"
      ],
      "metadata": {
        "colab": {
          "base_uri": "https://localhost:8080/",
          "height": 313
        },
        "id": "kBBum9xPqglf",
        "outputId": "4e96b178-2f96-43b1-a66a-52d66e0db744"
      },
      "execution_count": null,
      "outputs": [
        {
          "output_type": "execute_result",
          "data": {
            "text/plain": [
              "<matplotlib.collections.PathCollection at 0x7f74d6ff73d0>"
            ]
          },
          "metadata": {},
          "execution_count": 72
        },
        {
          "output_type": "display_data",
          "data": {
            "text/plain": [
              "<Figure size 432x288 with 1 Axes>"
            ],
            "image/png": "[encoded data removed]"
          },
          "metadata": {
            "needs_background": "light"
          }
        }
      ]
    },
    {
      "cell_type": "markdown",
      "source": [
        "We can do multiple augmentations at the same time. Here is a function to do both shear and rotation to the sample. In this case, we will have two hyperparameters."
      ],
      "metadata": {
        "id": "88Bu9veestqd"
      }
    },
    {
      "cell_type": "code",
      "source": [
        "def augRotateShear(sample, angleconstraint, shearconstraint):\n",
        "  if len(sample.shape)==2:\n",
        "    sample = np.expand_dims(sample, 0)  # make sure the sample is 3 dimensional\n",
        "  amt = rng.random(len(sample)) # generate random numbers for shear\n",
        "  amt = (amt-0.5)*shearconstraint # make the random shear constrained\n",
        "  angle = rng.random(len(sample)) # generate random numbers for angles\n",
        "  angle = (angle-0.5)*angleconstraint # make the random angle constrained\n",
        "  nsample = sample.copy() # preallocate the augmented array to make it faster\n",
        "  for ii in range(len(sample)):\n",
        "    nsample[ii] = rotate(shear(sample[ii], amt[ii]), angle[ii]) # first apply shear, then rotate\n",
        "  return np.squeeze(nsample) # take care if the input had only one sample."
      ],
      "metadata": {
        "id": "T9CflCiur-lr"
      },
      "execution_count": null,
      "outputs": []
    },
    {
      "cell_type": "markdown",
      "source": [
        "Since we have two hyperparameters, we have to do the grid search on a 2 dimensional matrix. We can use our previous experience to inform where to search for the best hyperparameters. "
      ],
      "metadata": {
        "id": "-EdNnol9s4NZ"
      }
    },
    {
      "cell_type": "code",
      "source": [
        "shearconstraints = [0, 0.2,0.4,0.6,0.8,1.0,1.2,1.4,1.6] # the values we want to test\n",
        "angleconstraints = [0,10,20,30,40,50,60] # the values we want to test\n",
        "hyp = cartesian((shearconstraints, angleconstraints)) # cartesian product of both\n",
        "\n",
        "accuracies = np.zeros(len(hyp), dtype=np.float) # we will save the values here\n",
        "\n",
        "for ii in range(len(hyp)):\n",
        "  # create the augmented dataset\n",
        "  augdata = train_X # we include the original images also in the augmented dataset\n",
        "  auglabel = train_y\n",
        "  for jj in range(naugmentations):\n",
        "    augdata = np.concatenate((augdata, augRotateShear(train_X, hyp[ii][0], hyp[ii][1]))) # concatenate the augmented data to the set\n",
        "    auglabel = np.concatenate((auglabel, train_y))  # the labels don't change when we augment\n",
        "\n",
        "  # check the test accuracy\n",
        "  testpred = NN(augdata, auglabel, test_X)\n",
        "  accuracies[ii] = Accuracy(test_y, testpred)\n",
        "  print('Accuracy after augmentation shear:',hyp[ii][0], 'angle:',hyp[ii][1], ' is ', accuracies[ii], flush=True)"
      ],
      "metadata": {
        "colab": {
          "base_uri": "https://localhost:8080/"
        },
        "id": "UfmRisY-swyX",
        "outputId": "30e7f0c8-ca29-44c1-c588-969a9bf1cc4a"
      },
      "execution_count": null,
      "outputs": [
        {
          "output_type": "stream",
          "name": "stderr",
          "text": [
            "/usr/local/lib/python3.7/dist-packages/ipykernel_launcher.py:5: DeprecationWarning: `np.float` is a deprecated alias for the builtin `float`. To silence this warning, use `float` by itself. Doing this will not modify any behavior and is safe. If you specifically wanted the numpy scalar type, use `np.float64` here.\n",
            "Deprecated in NumPy 1.20; for more details and guidance: https://numpy.org/devdocs/release/1.20.0-notes.html#deprecations\n",
            "  \"\"\"\n"
          ]
        },
        {
          "output_type": "stream",
          "name": "stdout",
          "text": [
            "Accuracy after augmentation shear: 0.0 angle: 0.0  is  0.6332\n",
            "Accuracy after augmentation shear: 0.0 angle: 10.0  is  0.5841\n",
            "Accuracy after augmentation shear: 0.0 angle: 20.0  is  0.6105\n",
            "Accuracy after augmentation shear: 0.0 angle: 30.0  is  0.5959\n",
            "Accuracy after augmentation shear: 0.0 angle: 40.0  is  0.6064\n",
            "Accuracy after augmentation shear: 0.0 angle: 50.0  is  0.5951\n",
            "Accuracy after augmentation shear: 0.0 angle: 60.0  is  0.5862\n",
            "Accuracy after augmentation shear: 0.2 angle: 0.0  is  0.6334\n",
            "Accuracy after augmentation shear: 0.2 angle: 10.0  is  0.5973\n",
            "Accuracy after augmentation shear: 0.2 angle: 20.0  is  0.5977\n",
            "Accuracy after augmentation shear: 0.2 angle: 30.0  is  0.5712\n",
            "Accuracy after augmentation shear: 0.2 angle: 40.0  is  0.6128\n",
            "Accuracy after augmentation shear: 0.2 angle: 50.0  is  0.5943\n",
            "Accuracy after augmentation shear: 0.2 angle: 60.0  is  0.5925\n",
            "Accuracy after augmentation shear: 0.4 angle: 0.0  is  0.6337\n",
            "Accuracy after augmentation shear: 0.4 angle: 10.0  is  0.5978\n",
            "Accuracy after augmentation shear: 0.4 angle: 20.0  is  0.6162\n",
            "Accuracy after augmentation shear: 0.4 angle: 30.0  is  0.5775\n",
            "Accuracy after augmentation shear: 0.4 angle: 40.0  is  0.5976\n",
            "Accuracy after augmentation shear: 0.4 angle: 50.0  is  0.5775\n",
            "Accuracy after augmentation shear: 0.4 angle: 60.0  is  0.6242\n",
            "Accuracy after augmentation shear: 0.6 angle: 0.0  is  0.6341\n",
            "Accuracy after augmentation shear: 0.6 angle: 10.0  is  0.6315\n",
            "Accuracy after augmentation shear: 0.6 angle: 20.0  is  0.582\n",
            "Accuracy after augmentation shear: 0.6 angle: 30.0  is  0.6022\n",
            "Accuracy after augmentation shear: 0.6 angle: 40.0  is  0.6018\n",
            "Accuracy after augmentation shear: 0.6 angle: 50.0  is  0.5899\n",
            "Accuracy after augmentation shear: 0.6 angle: 60.0  is  0.6021\n",
            "Accuracy after augmentation shear: 0.8 angle: 0.0  is  0.6341\n",
            "Accuracy after augmentation shear: 0.8 angle: 10.0  is  0.6004\n",
            "Accuracy after augmentation shear: 0.8 angle: 20.0  is  0.6025\n",
            "Accuracy after augmentation shear: 0.8 angle: 30.0  is  0.5981\n",
            "Accuracy after augmentation shear: 0.8 angle: 40.0  is  0.609\n",
            "Accuracy after augmentation shear: 0.8 angle: 50.0  is  0.6005\n",
            "Accuracy after augmentation shear: 0.8 angle: 60.0  is  0.6066\n",
            "Accuracy after augmentation shear: 1.0 angle: 0.0  is  0.6356\n",
            "Accuracy after augmentation shear: 1.0 angle: 10.0  is  0.5887\n",
            "Accuracy after augmentation shear: 1.0 angle: 20.0  is  0.5881\n",
            "Accuracy after augmentation shear: 1.0 angle: 30.0  is  0.5947\n",
            "Accuracy after augmentation shear: 1.0 angle: 40.0  is  0.605\n",
            "Accuracy after augmentation shear: 1.0 angle: 50.0  is  0.6181\n",
            "Accuracy after augmentation shear: 1.0 angle: 60.0  is  0.6009\n",
            "Accuracy after augmentation shear: 1.2 angle: 0.0  is  0.6339\n",
            "Accuracy after augmentation shear: 1.2 angle: 10.0  is  0.6077\n",
            "Accuracy after augmentation shear: 1.2 angle: 20.0  is  0.5849\n",
            "Accuracy after augmentation shear: 1.2 angle: 30.0  is  0.5774\n",
            "Accuracy after augmentation shear: 1.2 angle: 40.0  is  0.5931\n",
            "Accuracy after augmentation shear: 1.2 angle: 50.0  is  0.621\n",
            "Accuracy after augmentation shear: 1.2 angle: 60.0  is  0.5721\n",
            "Accuracy after augmentation shear: 1.4 angle: 0.0  is  0.6361\n",
            "Accuracy after augmentation shear: 1.4 angle: 10.0  is  0.6084\n",
            "Accuracy after augmentation shear: 1.4 angle: 20.0  is  0.5919\n",
            "Accuracy after augmentation shear: 1.4 angle: 30.0  is  0.5768\n",
            "Accuracy after augmentation shear: 1.4 angle: 40.0  is  0.6007\n",
            "Accuracy after augmentation shear: 1.4 angle: 50.0  is  0.5891\n",
            "Accuracy after augmentation shear: 1.4 angle: 60.0  is  0.5985\n",
            "Accuracy after augmentation shear: 1.6 angle: 0.0  is  0.6332\n",
            "Accuracy after augmentation shear: 1.6 angle: 10.0  is  0.5709\n",
            "Accuracy after augmentation shear: 1.6 angle: 20.0  is  0.5852\n",
            "Accuracy after augmentation shear: 1.6 angle: 30.0  is  0.5774\n",
            "Accuracy after augmentation shear: 1.6 angle: 40.0  is  0.6025\n",
            "Accuracy after augmentation shear: 1.6 angle: 50.0  is  0.6133\n",
            "Accuracy after augmentation shear: 1.6 angle: 60.0  is  0.6203\n"
          ]
        }
      ]
    },
    {
      "cell_type": "markdown",
      "source": [
        "Let us plot it two dimensionally to see which is the best value for the hyperparameters:"
      ],
      "metadata": {
        "id": "twI4Tk5etBTE"
      }
    },
    {
      "cell_type": "code",
      "source": [
        "fig = plt.figure()\n",
        "ax = fig.add_axes([0.1, 0.1, 0.8, 0.8]) # main axes\n",
        "im = ax.imshow(accuracies.reshape((len(shearconstraints), len(angleconstraints))), cmap='inferno') \n",
        "ax.set_xlabel('angle')\n",
        "ax.set_ylabel('shear')\n",
        "ax.set_xticks(np.arange(len(angleconstraints)));\n",
        "ax.set_xticklabels(angleconstraints);\n",
        "ax.set_yticks(np.arange(len(shearconstraints)));\n",
        "ax.set_yticklabels(shearconstraints);\n",
        "plt.colorbar(im)"
      ],
      "metadata": {
        "colab": {
          "base_uri": "https://localhost:8080/",
          "height": 309
        },
        "id": "CS8X6jLAs7hW",
        "outputId": "0dec0e13-701d-4a05-f3e0-c7f27d944b77"
      },
      "execution_count": null,
      "outputs": [
        {
          "output_type": "execute_result",
          "data": {
            "text/plain": [
              "<matplotlib.colorbar.Colorbar at 0x7f74d6f2a790>"
            ]
          },
          "metadata": {},
          "execution_count": 77
        },
        {
          "output_type": "display_data",
          "data": {
            "text/plain": [
              "<Figure size 432x288 with 2 Axes>"
            ],
            "image/png": "[encoded data removed]"
          },
          "metadata": {
            "needs_background": "light"
          }
        }
      ]
    },
    {
      "cell_type": "markdown",
      "source": [
        "It seems that rotation and shear don't mix! The best accuracy is when rotation is zero."
      ],
      "metadata": {
        "id": "JRnymka4vnla"
      }
    },
    {
      "cell_type": "markdown",
      "source": [
        "## Questions\n",
        "Try these questions for better understanding. You may not be able to solve all of them. \n",
        "1. What is the best value for angle constraint and shear constraint you got? How much did the accuracy improve as compared to not using augmentations?\n",
        "2. Can you increase the accuracy by increasing the number of augmentations from each sample?\n",
        "3. Try implementing a few augmentations of your own and experimenting with them. A good reference is <a href=https://www.analyticsvidhya.com/blog/2019/12/image-augmentation-deep-learning-pytorch/>here. </a>\n",
        "4. Try combining various augmentations. What is the highest accuracy you can get? What is the smallest training dataset you can take and still get accuracy above 50%?\n",
        "\n",
        "Whenever you do any experiment, a good practice is to vary the hyperparameters gradually and create a graph of your results, like we did for gridsearch. "
      ],
      "metadata": {
        "id": "cU9AxYWJvs_P"
      }
    },
    {
      "cell_type": "code",
      "source": [],
      "metadata": {
        "id": "U8vjAkkdvjOk"
      },
      "execution_count": null,
      "outputs": []
    }
  ]
}